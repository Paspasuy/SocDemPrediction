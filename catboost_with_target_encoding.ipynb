{
 "cells": [
  {
   "cell_type": "code",
   "metadata": {
    "ExecuteTime": {
     "end_time": "2024-09-29T02:54:05.097372Z",
     "start_time": "2024-09-29T02:54:02.892235Z"
    }
   },
   "source": [
    "from catboost import CatBoostClassifier\n",
    "import pandas as pd\n",
    "import numpy as np\n",
    "import matplotlib.pyplot as plt\n",
    "import seaborn as sns\n",
    "from sklearn.model_selection import train_test_split\n",
    "from sklearn.metrics import roc_auc_score\n",
    "from tqdm import tqdm\n",
    "from sklearn.model_selection import KFold, StratifiedKFold\n",
    "import utils\n"
   ],
   "outputs": [
    {
     "name": "stderr",
     "output_type": "stream",
     "text": [
      "[nltk_data] Downloading package stopwords to\n",
      "[nltk_data]     /Users/p.a.nikulin/nltk_data...\n",
      "[nltk_data]   Package stopwords is already up-to-date!\n"
     ]
    }
   ],
   "execution_count": 1
  },
  {
   "cell_type": "code",
   "metadata": {
    "ExecuteTime": {
     "end_time": "2024-09-29T02:54:05.137706Z",
     "start_time": "2024-09-29T02:54:05.135953Z"
    }
   },
   "source": "from utils import Imputer, MainFeatureExtractor, SimpleStatisticsExtractor, GeoFeatureExtractor, UserFeatureExtractor, TargetEncodingExtractor",
   "outputs": [],
   "execution_count": 2
  },
  {
   "cell_type": "code",
   "metadata": {
    "ExecuteTime": {
     "end_time": "2024-09-29T02:54:08.423162Z",
     "start_time": "2024-09-29T02:54:05.279326Z"
    }
   },
   "source": [
    "path = \"data/\"\n",
    "data_start = pd.read_csv(path + 'train_events.csv')\n",
    "video_start = pd.read_csv(path + 'video_info_v2.csv')\n",
    "targets_start = pd.read_csv(path + 'train_targets.csv')"
   ],
   "outputs": [],
   "execution_count": 3
  },
  {
   "cell_type": "code",
   "metadata": {
    "ExecuteTime": {
     "end_time": "2024-09-29T02:56:49.857703Z",
     "start_time": "2024-09-29T02:54:08.430883Z"
    }
   },
   "source": [
    "events, features = Imputer().fit_transform(data_start, video_start, targets_start)\n",
    "\n",
    "for extractor in [GeoFeatureExtractor(), MainFeatureExtractor(), SimpleStatisticsExtractor(), UserFeatureExtractor()]:\n",
    "    events, features = extractor.fit_transform(events, features)\n",
    "\n",
    "features.shape"
   ],
   "outputs": [
    {
     "name": "stdout",
     "output_type": "stream",
     "text": [
      "Applying SimpleStatisticsExtractor...\n"
     ]
    },
    {
     "data": {
      "text/plain": [
       "(180012, 174)"
      ]
     },
     "execution_count": 4,
     "metadata": {},
     "output_type": "execute_result"
    }
   ],
   "execution_count": 4
  },
  {
   "cell_type": "code",
   "metadata": {
    "ExecuteTime": {
     "end_time": "2024-09-29T02:56:49.886662Z",
     "start_time": "2024-09-29T02:56:49.881482Z"
    }
   },
   "source": [
    "class CatboostEstimator:\n",
    "    \"\"\"\n",
    "    Класс для обучения Catboost\n",
    "    \"\"\"\n",
    "\n",
    "    def fit(self, X, y, ids, n_splits, cat_features, score):\n",
    "        \"\"\"\n",
    "        Разбивает данные на k фолдов со стратификацией и обучает n_splits катбустов\n",
    "        \"\"\"\n",
    "        self.one_model = False\n",
    "        self.models = []\n",
    "        scores = []\n",
    "        skf = StratifiedKFold(n_splits=n_splits, shuffle=True, random_state=42)\n",
    "        for ind, (train_index, val_index) in enumerate(skf.split(X, y)):\n",
    "            X_train = X.loc[train_index]\n",
    "            y_train = y.loc[train_index]\n",
    "            X_val = X.loc[val_index]\n",
    "            y_val = y.loc[val_index]\n",
    "\n",
    "            train_idx = ids.loc[train_index]\n",
    "            train_idx.name = 'viewer_uid'\n",
    "\n",
    "            y_train_idx = y_train.copy()\n",
    "            y_train_idx.index = train_idx\n",
    "            X_train['viewer_uid'] = train_idx\n",
    "            val_idx = ids.loc[val_index]\n",
    "            val_idx.name = 'viewer_uid'\n",
    "            X_val['viewer_uid'] = val_idx\n",
    "            if y.name == 'age_class':\n",
    "                target_enc_ext = utils.TargetEncodingExtractor()\n",
    "            else:\n",
    "                target_enc_ext = utils.TargetEncodingExtractorSex()                \n",
    "            events_filtered_train = pd.merge(events, train_idx, on='viewer_uid', how='inner')\n",
    "            target_enc_ext.fit(events_filtered_train, pd.merge(X_train, y_train_idx, on='viewer_uid', how='inner'))\n",
    "            events_filtered_test = pd.merge(events, val_idx, on='viewer_uid', how='inner')\n",
    "\n",
    "            X_train = target_enc_ext.transform(events_filtered_train, X_train).drop(columns=['viewer_uid'])\n",
    "            X_val = target_enc_ext.transform(events_filtered_test, X_val).drop(columns=['viewer_uid'])\n",
    "\n",
    "            model = CatBoostClassifier(cat_features=cat_features, verbose=500, iterations=1000)\n",
    "            model.fit(X_train, y_train, verbose=500, eval_set=(X_val, y_val))\n",
    "            \n",
    "            self.models.append(model)\n",
    "            y_pred = model.predict(X_val)\n",
    "            scores.append(score(y_val, y_pred))\n",
    "            print(f'model {ind}: score = {round(scores[-1], 4)}')\n",
    "        \n",
    "        scores = np.array(scores)\n",
    "        print(f'mean score = {scores.mean().round(4)}, std = {scores.std().round(4)}')\n",
    "        print(f'overall score = {(scores.mean() - scores.std()).round(4)}')\n",
    "            \n",
    "    \n",
    "    def fit_select_features(self, X, y, cat_features, to_drop):\n",
    "        \"\"\"\n",
    "        Обучает один катбуст и выполняет elect features\n",
    "        \"\"\"\n",
    "        self.one_model = True\n",
    "        \n",
    "        X_train, X_val, y_train, y_val = train_test_split(X, y, test_size=0.2, random_state=42)\n",
    "        \n",
    "        self.model = CatBoostClassifier(cat_features=cat_features, verbose=150, iterations=2000)\n",
    "        \n",
    "        self.model.select_features(X_train, y_train, verbose=500, eval_set=(X_val, y_val), steps=10,\n",
    "                                  num_features_to_select=30, features_for_select=X.columns,\n",
    "                                  algorithm='RecursiveByLossFunctionChange', train_final_model=True)\n",
    "\n",
    "    def predict(self, X, cnt_classes):\n",
    "        if self.one_model:\n",
    "            return self.model.predict_proba(X)\n",
    "        \n",
    "        y_pred = np.zeros((X.shape[0], cnt_classes))\n",
    "\n",
    "        for model in self.models:\n",
    "            y_pred += model.predict_proba(X)\n",
    "        y_pred /= cnt_classes\n",
    "        y_pred = np.argmax(y_pred, axis=1)\n",
    "        \n",
    "        return y_pred"
   ],
   "outputs": [],
   "execution_count": 5
  },
  {
   "cell_type": "code",
   "metadata": {
    "ExecuteTime": {
     "end_time": "2024-09-29T02:56:49.909201Z",
     "start_time": "2024-09-29T02:56:49.907405Z"
    }
   },
   "source": [
    "from sklearn.metrics import f1_score, accuracy_score"
   ],
   "outputs": [],
   "execution_count": 6
  },
  {
   "cell_type": "code",
   "metadata": {
    "ExecuteTime": {
     "end_time": "2024-09-29T02:56:49.928558Z",
     "start_time": "2024-09-29T02:56:49.926602Z"
    }
   },
   "source": [
    "def score_sex(y_true, y_pred):\n",
    "    return accuracy_score(y_true, y_pred)\n",
    "\n",
    "\n",
    "def score_age(y_true, y_pred):\n",
    "    return f1_score(y_true, y_pred, average='weighted')"
   ],
   "outputs": [],
   "execution_count": 7
  },
  {
   "cell_type": "code",
   "metadata": {
    "ExecuteTime": {
     "end_time": "2024-09-29T02:56:49.951148Z",
     "start_time": "2024-09-29T02:56:49.946707Z"
    }
   },
   "source": [
    "cat_features = []\n",
    "for i, col in enumerate(features.columns):\n",
    "    if features[col].dtype in ['object', 'category']:\n",
    "        cat_features.append(col)\n",
    "        \n",
    "cat_features"
   ],
   "outputs": [
    {
     "data": {
      "text/plain": [
       "['favourite_cat', 'region']"
      ]
     },
     "execution_count": 8,
     "metadata": {},
     "output_type": "execute_result"
    }
   ],
   "execution_count": 8
  },
  {
   "cell_type": "code",
   "metadata": {
    "ExecuteTime": {
     "end_time": "2024-09-29T03:02:14.165827Z",
     "start_time": "2024-09-29T02:56:49.968872Z"
    }
   },
   "source": [
    "catboost_sex = CatboostEstimator()\n",
    "catboost_age = CatboostEstimator()\n",
    "\n",
    "features_to_drop = [\n",
    "    'viewer_uid',\n",
    "    'age'\n",
    "]\n",
    "\n",
    "target_sex = 'sex'\n",
    "target_age = 'age_class'\n",
    "\n",
    "print('Sex model\\n')\n",
    "\n",
    "ids = features.reset_index()['viewer_uid']\n",
    "ids.name = 'viewer_uid'\n",
    "y_sex = features[target_sex]\n",
    "y_sex.name = target_sex\n",
    "\n",
    "y_age = features[target_age]\n",
    "y_age.name = target_age\n",
    "\n",
    "catboost_sex.fit(features.drop(columns=features_to_drop + [target_sex] + [target_age]),\n",
    "                 y_sex,\n",
    "                 ids,\n",
    "                 n_splits=2,\n",
    "                 cat_features=cat_features,\n",
    "                 score=score_sex)\n",
    "\n",
    "print('\\n\\n\\nAge model\\n')\n",
    "\n",
    "catboost_age.fit(features.drop(columns=features_to_drop + [target_sex] + [target_age]),\n",
    "                 y_age,\n",
    "                 ids,\n",
    "                 n_splits=2,\n",
    "                 cat_features=cat_features,\n",
    "                 score=score_age)"
   ],
   "outputs": [
    {
     "name": "stdout",
     "output_type": "stream",
     "text": [
      "Sex model\n",
      "\n"
     ]
    },
    {
     "name": "stderr",
     "output_type": "stream",
     "text": [
      "/Users/p.a.nikulin/ML/SocDemPrediction/utils/extractors/target_encoding_extractor_sex.py:84: FutureWarning: Downcasting object dtype arrays on .fillna, .ffill, .bfill is deprecated and will change in a future version. Call result.infer_objects(copy=False) instead. To opt-in to the future behavior, set `pd.set_option('future.no_silent_downcasting', True)`\n",
      "  events_test = events_test.fillna(-1)\n"
     ]
    },
    {
     "name": "stdout",
     "output_type": "stream",
     "text": [
      "Learning rate set to 0.096297\n",
      "0:\tlearn: 0.6592421\ttest: 0.6639503\tbest: 0.6639503 (0)\ttotal: 95.3ms\tremaining: 1m 35s\n",
      "500:\tlearn: 0.4380468\ttest: 0.4985490\tbest: 0.4985303 (499)\ttotal: 16s\tremaining: 15.9s\n",
      "999:\tlearn: 0.3947085\ttest: 0.4992373\tbest: 0.4981528 (645)\ttotal: 37.7s\tremaining: 0us\n",
      "\n",
      "bestTest = 0.4981527799\n",
      "bestIteration = 645\n",
      "\n",
      "Shrink model to first 646 iterations.\n",
      "model 0: score = 0.7517\n"
     ]
    },
    {
     "name": "stderr",
     "output_type": "stream",
     "text": [
      "/Users/p.a.nikulin/ML/SocDemPrediction/utils/extractors/target_encoding_extractor_sex.py:84: FutureWarning: Downcasting object dtype arrays on .fillna, .ffill, .bfill is deprecated and will change in a future version. Call result.infer_objects(copy=False) instead. To opt-in to the future behavior, set `pd.set_option('future.no_silent_downcasting', True)`\n",
      "  events_test = events_test.fillna(-1)\n"
     ]
    },
    {
     "name": "stdout",
     "output_type": "stream",
     "text": [
      "Learning rate set to 0.096297\n",
      "0:\tlearn: 0.6611566\ttest: 0.6648031\tbest: 0.6648031 (0)\ttotal: 42.8ms\tremaining: 42.8s\n",
      "500:\tlearn: 0.4341965\ttest: 0.5006795\tbest: 0.5005865 (452)\ttotal: 17.6s\tremaining: 17.6s\n",
      "999:\tlearn: 0.3923274\ttest: 0.5012535\tbest: 0.5003315 (593)\ttotal: 35s\tremaining: 0us\n",
      "\n",
      "bestTest = 0.5003315441\n",
      "bestIteration = 593\n",
      "\n",
      "Shrink model to first 594 iterations.\n",
      "model 1: score = 0.7503\n",
      "mean score = 0.751, std = 0.0007\n",
      "overall score = 0.7503\n",
      "\n",
      "\n",
      "\n",
      "Age model\n",
      "\n",
      "Learning rate set to 0.118144\n",
      "0:\tlearn: 1.3316695\ttest: 1.3332760\tbest: 1.3332760 (0)\ttotal: 121ms\tremaining: 2m 1s\n",
      "500:\tlearn: 0.9800839\ttest: 1.0792596\tbest: 1.0787523 (297)\ttotal: 57s\tremaining: 56.8s\n",
      "999:\tlearn: 0.9137234\ttest: 1.0834218\tbest: 1.0787523 (297)\ttotal: 1m 56s\tremaining: 0us\n",
      "\n",
      "bestTest = 1.078752319\n",
      "bestIteration = 297\n",
      "\n",
      "Shrink model to first 298 iterations.\n",
      "model 0: score = 0.471\n",
      "Learning rate set to 0.118144\n",
      "0:\tlearn: 1.3314978\ttest: 1.3332452\tbest: 1.3332452 (0)\ttotal: 119ms\tremaining: 1m 59s\n",
      "500:\tlearn: 0.9807390\ttest: 1.0818896\tbest: 1.0813968 (305)\ttotal: 1m\tremaining: 1m\n",
      "999:\tlearn: 0.9142876\ttest: 1.0860883\tbest: 1.0813968 (305)\ttotal: 2m 1s\tremaining: 0us\n",
      "\n",
      "bestTest = 1.081396815\n",
      "bestIteration = 305\n",
      "\n",
      "Shrink model to first 306 iterations.\n",
      "model 1: score = 0.4722\n",
      "mean score = 0.4716, std = 0.0006\n",
      "overall score = 0.471\n"
     ]
    }
   ],
   "execution_count": 9
  },
  {
   "cell_type": "code",
   "metadata": {
    "ExecuteTime": {
     "end_time": "2024-09-29T03:02:14.558101Z",
     "start_time": "2024-09-29T03:02:14.205774Z"
    }
   },
   "source": [
    "# Plot feature importances\n",
    "\n",
    "def plot_importance(model, features, top=50):\n",
    "    feature_importance = model.feature_importances_\n",
    "    feature_importance = 100.0 * (feature_importance / feature_importance.max())\n",
    "    sorted_idx = np.argsort(feature_importance)\n",
    "    pos = np.arange(sorted_idx.shape[0]) + .5\n",
    "\n",
    "    plt.figure(figsize=(12, 12))\n",
    "    plt.barh(pos[-top:], feature_importance[sorted_idx][-top:], align='center')\n",
    "    plt.yticks(pos[-top:], np.array(features.columns)[sorted_idx][-top:])\n",
    "    plt.xlabel('Relative Importance')\n",
    "    plt.title('Variable Importance')\n",
    "    plt.show()\n",
    "    \n",
    "plot_importance(catboost_age.models[0], features.drop(columns=features_to_drop + [target_sex] + [target_age]))"
   ],
   "outputs": [
    {
     "ename": "IndexError",
     "evalue": "index 177 is out of bounds for axis 0 with size 170",
     "output_type": "error",
     "traceback": [
      "\u001B[0;31m---------------------------------------------------------------------------\u001B[0m",
      "\u001B[0;31mIndexError\u001B[0m                                Traceback (most recent call last)",
      "Cell \u001B[0;32mIn[10], line 16\u001B[0m\n\u001B[1;32m     13\u001B[0m     plt\u001B[38;5;241m.\u001B[39mtitle(\u001B[38;5;124m'\u001B[39m\u001B[38;5;124mVariable Importance\u001B[39m\u001B[38;5;124m'\u001B[39m)\n\u001B[1;32m     14\u001B[0m     plt\u001B[38;5;241m.\u001B[39mshow()\n\u001B[0;32m---> 16\u001B[0m \u001B[43mplot_importance\u001B[49m\u001B[43m(\u001B[49m\u001B[43mcatboost_age\u001B[49m\u001B[38;5;241;43m.\u001B[39;49m\u001B[43mmodels\u001B[49m\u001B[43m[\u001B[49m\u001B[38;5;241;43m0\u001B[39;49m\u001B[43m]\u001B[49m\u001B[43m,\u001B[49m\u001B[43m \u001B[49m\u001B[43mfeatures\u001B[49m\u001B[38;5;241;43m.\u001B[39;49m\u001B[43mdrop\u001B[49m\u001B[43m(\u001B[49m\u001B[43mcolumns\u001B[49m\u001B[38;5;241;43m=\u001B[39;49m\u001B[43mfeatures_to_drop\u001B[49m\u001B[43m \u001B[49m\u001B[38;5;241;43m+\u001B[39;49m\u001B[43m \u001B[49m\u001B[43m[\u001B[49m\u001B[43mtarget_sex\u001B[49m\u001B[43m]\u001B[49m\u001B[43m \u001B[49m\u001B[38;5;241;43m+\u001B[39;49m\u001B[43m \u001B[49m\u001B[43m[\u001B[49m\u001B[43mtarget_age\u001B[49m\u001B[43m]\u001B[49m\u001B[43m)\u001B[49m\u001B[43m)\u001B[49m\n",
      "Cell \u001B[0;32mIn[10], line 11\u001B[0m, in \u001B[0;36mplot_importance\u001B[0;34m(model, features, top)\u001B[0m\n\u001B[1;32m      9\u001B[0m plt\u001B[38;5;241m.\u001B[39mfigure(figsize\u001B[38;5;241m=\u001B[39m(\u001B[38;5;241m12\u001B[39m, \u001B[38;5;241m12\u001B[39m))\n\u001B[1;32m     10\u001B[0m plt\u001B[38;5;241m.\u001B[39mbarh(pos[\u001B[38;5;241m-\u001B[39mtop:], feature_importance[sorted_idx][\u001B[38;5;241m-\u001B[39mtop:], align\u001B[38;5;241m=\u001B[39m\u001B[38;5;124m'\u001B[39m\u001B[38;5;124mcenter\u001B[39m\u001B[38;5;124m'\u001B[39m)\n\u001B[0;32m---> 11\u001B[0m plt\u001B[38;5;241m.\u001B[39myticks(pos[\u001B[38;5;241m-\u001B[39mtop:], \u001B[43mnp\u001B[49m\u001B[38;5;241;43m.\u001B[39;49m\u001B[43marray\u001B[49m\u001B[43m(\u001B[49m\u001B[43mfeatures\u001B[49m\u001B[38;5;241;43m.\u001B[39;49m\u001B[43mcolumns\u001B[49m\u001B[43m)\u001B[49m\u001B[43m[\u001B[49m\u001B[43msorted_idx\u001B[49m\u001B[43m]\u001B[49m[\u001B[38;5;241m-\u001B[39mtop:])\n\u001B[1;32m     12\u001B[0m plt\u001B[38;5;241m.\u001B[39mxlabel(\u001B[38;5;124m'\u001B[39m\u001B[38;5;124mRelative Importance\u001B[39m\u001B[38;5;124m'\u001B[39m)\n\u001B[1;32m     13\u001B[0m plt\u001B[38;5;241m.\u001B[39mtitle(\u001B[38;5;124m'\u001B[39m\u001B[38;5;124mVariable Importance\u001B[39m\u001B[38;5;124m'\u001B[39m)\n",
      "\u001B[0;31mIndexError\u001B[0m: index 177 is out of bounds for axis 0 with size 170"
     ]
    },
    {
     "data": {
      "text/plain": [
       "<Figure size 1200x1200 with 1 Axes>"
      ],
      "image/png": "[encoded data removed]"
     },
     "metadata": {},
     "output_type": "display_data"
    }
   ],
   "execution_count": 10
  },
  {
   "cell_type": "code",
   "metadata": {
    "ExecuteTime": {
     "end_time": "2024-09-29T03:02:14.563960Z",
     "start_time": "2024-09-29T02:50:51.824095Z"
    }
   },
   "source": [
    "import importlib\n",
    "import utils\n",
    "importlib.reload(utils)\n"
   ],
   "outputs": [
    {
     "data": {
      "text/plain": [
       "<module 'utils' from '/Users/p.a.nikulin/ML/SocDemPrediction/utils/__init__.py'>"
      ]
     },
     "execution_count": 10,
     "metadata": {},
     "output_type": "execute_result"
    }
   ],
   "execution_count": 10
  },
  {
   "metadata": {},
   "cell_type": "code",
   "outputs": [],
   "execution_count": null,
   "source": ""
  }
 ],
 "metadata": {
  "kernelspec": {
   "display_name": "other_env",
   "language": "python",
   "name": "python3"
  },
  "language_info": {
   "codemirror_mode": {
    "name": "ipython",
    "version": 3
   },
   "file_extension": ".py",
   "mimetype": "text/x-python",
   "name": "python",
   "nbconvert_exporter": "python",
   "pygments_lexer": "ipython3",
   "version": "3.12.5"
  }
 },
 "nbformat": 4,
 "nbformat_minor": 2
}
