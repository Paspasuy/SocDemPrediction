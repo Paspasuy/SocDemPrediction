{
 "cells": [
  {
   "cell_type": "code",
   "id": "3dbe0fe4-71db-4dea-918e-9ca5aea27625",
   "metadata": {
    "ExecuteTime": {
     "end_time": "2024-09-28T09:48:57.812340Z",
     "start_time": "2024-09-28T09:48:57.809605Z"
    }
   },
   "source": [
    "import pandas as pd\n",
    "from sklearn.model_selection import train_test_split\n",
    "from sklearn.metrics import f1_score, accuracy_score\n",
    "import seaborn as sns\n",
    "import matplotlib.pyplot as plt\n",
    "from collections import Counter"
   ],
   "outputs": [],
   "execution_count": 39
  },
  {
   "metadata": {
    "ExecuteTime": {
     "end_time": "2024-09-28T09:49:30.874920Z",
     "start_time": "2024-09-28T09:49:30.871210Z"
    }
   },
   "cell_type": "code",
   "source": "sns.set_theme(\"notebook\")",
   "id": "2f9ececf71117897",
   "outputs": [],
   "execution_count": 43
  },
  {
   "cell_type": "code",
   "id": "9b75755d-6b33-434d-b51d-cb58ba292bd9",
   "metadata": {
    "ExecuteTime": {
     "end_time": "2024-09-28T09:01:29.817273Z",
     "start_time": "2024-09-28T09:01:27.356299Z"
    }
   },
   "source": [
    "path = \"../../data/\"\n",
    "data = pd.read_csv(path + 'train_events.csv')\n",
    "video = pd.read_csv(path + 'video_info_v2.csv')\n",
    "targets = pd.read_csv(path + 'train_targets.csv')"
   ],
   "outputs": [],
   "execution_count": 6
  },
  {
   "cell_type": "code",
   "id": "20fa66e1-daa6-4dcb-b8a0-517f3e50f47a",
   "metadata": {
    "ExecuteTime": {
     "end_time": "2024-09-28T09:01:29.833999Z",
     "start_time": "2024-09-28T09:01:29.823291Z"
    }
   },
   "source": [
    "data.head(5)"
   ],
   "outputs": [
    {
     "data": {
      "text/plain": [
       "             event_timestamp                  region ua_device_type  \\\n",
       "0  2024-06-01 06:40:58+03:00             Chelyabinsk        desktop   \n",
       "1  2024-06-01 19:33:24+03:00  Bashkortostan Republic     smartphone   \n",
       "2  2024-06-01 21:30:43+03:00          St.-Petersburg        desktop   \n",
       "3  2024-06-01 23:03:42+03:00                  Moscow     smartphone   \n",
       "4  2024-06-01 22:48:09+03:00                  Moscow     smartphone   \n",
       "\n",
       "  ua_client_type    ua_os  ua_client_name  total_watchtime rutube_video_id  \\\n",
       "0        browser  Windows  Yandex Browser             1883    video_133074   \n",
       "1     mobile app  Android          Rutube              512    video_362960   \n",
       "2        browser  Windows          Chrome             5647     video_96775   \n",
       "3     mobile app  Android          Rutube             1521    video_161610   \n",
       "4     mobile app  Android          Rutube               71    video_116245   \n",
       "\n",
       "   viewer_uid  \n",
       "0    10067243  \n",
       "1    10245341  \n",
       "2    10894333  \n",
       "3    10029092  \n",
       "4    10452976  "
      ],
      "text/html": [
       "<div>\n",
       "<style scoped>\n",
       "    .dataframe tbody tr th:only-of-type {\n",
       "        vertical-align: middle;\n",
       "    }\n",
       "\n",
       "    .dataframe tbody tr th {\n",
       "        vertical-align: top;\n",
       "    }\n",
       "\n",
       "    .dataframe thead th {\n",
       "        text-align: right;\n",
       "    }\n",
       "</style>\n",
       "<table border=\"1\" class=\"dataframe\">\n",
       "  <thead>\n",
       "    <tr style=\"text-align: right;\">\n",
       "      <th></th>\n",
       "      <th>event_timestamp</th>\n",
       "      <th>region</th>\n",
       "      <th>ua_device_type</th>\n",
       "      <th>ua_client_type</th>\n",
       "      <th>ua_os</th>\n",
       "      <th>ua_client_name</th>\n",
       "      <th>total_watchtime</th>\n",
       "      <th>rutube_video_id</th>\n",
       "      <th>viewer_uid</th>\n",
       "    </tr>\n",
       "  </thead>\n",
       "  <tbody>\n",
       "    <tr>\n",
       "      <th>0</th>\n",
       "      <td>2024-06-01 06:40:58+03:00</td>\n",
       "      <td>Chelyabinsk</td>\n",
       "      <td>desktop</td>\n",
       "      <td>browser</td>\n",
       "      <td>Windows</td>\n",
       "      <td>Yandex Browser</td>\n",
       "      <td>1883</td>\n",
       "      <td>video_133074</td>\n",
       "      <td>10067243</td>\n",
       "    </tr>\n",
       "    <tr>\n",
       "      <th>1</th>\n",
       "      <td>2024-06-01 19:33:24+03:00</td>\n",
       "      <td>Bashkortostan Republic</td>\n",
       "      <td>smartphone</td>\n",
       "      <td>mobile app</td>\n",
       "      <td>Android</td>\n",
       "      <td>Rutube</td>\n",
       "      <td>512</td>\n",
       "      <td>video_362960</td>\n",
       "      <td>10245341</td>\n",
       "    </tr>\n",
       "    <tr>\n",
       "      <th>2</th>\n",
       "      <td>2024-06-01 21:30:43+03:00</td>\n",
       "      <td>St.-Petersburg</td>\n",
       "      <td>desktop</td>\n",
       "      <td>browser</td>\n",
       "      <td>Windows</td>\n",
       "      <td>Chrome</td>\n",
       "      <td>5647</td>\n",
       "      <td>video_96775</td>\n",
       "      <td>10894333</td>\n",
       "    </tr>\n",
       "    <tr>\n",
       "      <th>3</th>\n",
       "      <td>2024-06-01 23:03:42+03:00</td>\n",
       "      <td>Moscow</td>\n",
       "      <td>smartphone</td>\n",
       "      <td>mobile app</td>\n",
       "      <td>Android</td>\n",
       "      <td>Rutube</td>\n",
       "      <td>1521</td>\n",
       "      <td>video_161610</td>\n",
       "      <td>10029092</td>\n",
       "    </tr>\n",
       "    <tr>\n",
       "      <th>4</th>\n",
       "      <td>2024-06-01 22:48:09+03:00</td>\n",
       "      <td>Moscow</td>\n",
       "      <td>smartphone</td>\n",
       "      <td>mobile app</td>\n",
       "      <td>Android</td>\n",
       "      <td>Rutube</td>\n",
       "      <td>71</td>\n",
       "      <td>video_116245</td>\n",
       "      <td>10452976</td>\n",
       "    </tr>\n",
       "  </tbody>\n",
       "</table>\n",
       "</div>"
      ]
     },
     "execution_count": 7,
     "metadata": {},
     "output_type": "execute_result"
    }
   ],
   "execution_count": 7
  },
  {
   "metadata": {},
   "cell_type": "markdown",
   "source": "## Пример использования функции `add_tz_and_localtime_column`",
   "id": "1556089bc8857312"
  },
  {
   "metadata": {
    "ExecuteTime": {
     "end_time": "2024-09-28T09:01:44.337961Z",
     "start_time": "2024-09-28T09:01:29.860871Z"
    }
   },
   "cell_type": "code",
   "source": [
    "import utils\n",
    "\n",
    "df_with_localtime = utils.add_tz_and_localtime_column(data)\n",
    "df_with_localtime.head()"
   ],
   "id": "2a21130eb2fbbf5e",
   "outputs": [
    {
     "data": {
      "text/plain": [
       "            event_timestamp                  region ua_device_type  \\\n",
       "0 2024-06-01 06:40:58+03:00             Chelyabinsk        desktop   \n",
       "1 2024-06-01 19:33:24+03:00  Bashkortostan Republic     smartphone   \n",
       "2 2024-06-01 21:30:43+03:00          St.-Petersburg        desktop   \n",
       "3 2024-06-01 23:03:42+03:00                  Moscow     smartphone   \n",
       "4 2024-06-01 22:48:09+03:00                  Moscow     smartphone   \n",
       "\n",
       "  ua_client_type    ua_os  ua_client_name  total_watchtime rutube_video_id  \\\n",
       "0        browser  Windows  Yandex Browser             1883    video_133074   \n",
       "1     mobile app  Android          Rutube              512    video_362960   \n",
       "2        browser  Windows          Chrome             5647     video_96775   \n",
       "3     mobile app  Android          Rutube             1521    video_161610   \n",
       "4     mobile app  Android          Rutube               71    video_116245   \n",
       "\n",
       "   viewer_uid            timezone                 local_time  \n",
       "0    10067243  Asia/Yekaterinburg  2024-06-01 08:40:58+05:00  \n",
       "1    10245341  Asia/Yekaterinburg  2024-06-01 21:33:24+05:00  \n",
       "2    10894333       Europe/Moscow  2024-06-01 21:30:43+03:00  \n",
       "3    10029092       Europe/Moscow  2024-06-01 23:03:42+03:00  \n",
       "4    10452976       Europe/Moscow  2024-06-01 22:48:09+03:00  "
      ],
      "text/html": [
       "<div>\n",
       "<style scoped>\n",
       "    .dataframe tbody tr th:only-of-type {\n",
       "        vertical-align: middle;\n",
       "    }\n",
       "\n",
       "    .dataframe tbody tr th {\n",
       "        vertical-align: top;\n",
       "    }\n",
       "\n",
       "    .dataframe thead th {\n",
       "        text-align: right;\n",
       "    }\n",
       "</style>\n",
       "<table border=\"1\" class=\"dataframe\">\n",
       "  <thead>\n",
       "    <tr style=\"text-align: right;\">\n",
       "      <th></th>\n",
       "      <th>event_timestamp</th>\n",
       "      <th>region</th>\n",
       "      <th>ua_device_type</th>\n",
       "      <th>ua_client_type</th>\n",
       "      <th>ua_os</th>\n",
       "      <th>ua_client_name</th>\n",
       "      <th>total_watchtime</th>\n",
       "      <th>rutube_video_id</th>\n",
       "      <th>viewer_uid</th>\n",
       "      <th>timezone</th>\n",
       "      <th>local_time</th>\n",
       "    </tr>\n",
       "  </thead>\n",
       "  <tbody>\n",
       "    <tr>\n",
       "      <th>0</th>\n",
       "      <td>2024-06-01 06:40:58+03:00</td>\n",
       "      <td>Chelyabinsk</td>\n",
       "      <td>desktop</td>\n",
       "      <td>browser</td>\n",
       "      <td>Windows</td>\n",
       "      <td>Yandex Browser</td>\n",
       "      <td>1883</td>\n",
       "      <td>video_133074</td>\n",
       "      <td>10067243</td>\n",
       "      <td>Asia/Yekaterinburg</td>\n",
       "      <td>2024-06-01 08:40:58+05:00</td>\n",
       "    </tr>\n",
       "    <tr>\n",
       "      <th>1</th>\n",
       "      <td>2024-06-01 19:33:24+03:00</td>\n",
       "      <td>Bashkortostan Republic</td>\n",
       "      <td>smartphone</td>\n",
       "      <td>mobile app</td>\n",
       "      <td>Android</td>\n",
       "      <td>Rutube</td>\n",
       "      <td>512</td>\n",
       "      <td>video_362960</td>\n",
       "      <td>10245341</td>\n",
       "      <td>Asia/Yekaterinburg</td>\n",
       "      <td>2024-06-01 21:33:24+05:00</td>\n",
       "    </tr>\n",
       "    <tr>\n",
       "      <th>2</th>\n",
       "      <td>2024-06-01 21:30:43+03:00</td>\n",
       "      <td>St.-Petersburg</td>\n",
       "      <td>desktop</td>\n",
       "      <td>browser</td>\n",
       "      <td>Windows</td>\n",
       "      <td>Chrome</td>\n",
       "      <td>5647</td>\n",
       "      <td>video_96775</td>\n",
       "      <td>10894333</td>\n",
       "      <td>Europe/Moscow</td>\n",
       "      <td>2024-06-01 21:30:43+03:00</td>\n",
       "    </tr>\n",
       "    <tr>\n",
       "      <th>3</th>\n",
       "      <td>2024-06-01 23:03:42+03:00</td>\n",
       "      <td>Moscow</td>\n",
       "      <td>smartphone</td>\n",
       "      <td>mobile app</td>\n",
       "      <td>Android</td>\n",
       "      <td>Rutube</td>\n",
       "      <td>1521</td>\n",
       "      <td>video_161610</td>\n",
       "      <td>10029092</td>\n",
       "      <td>Europe/Moscow</td>\n",
       "      <td>2024-06-01 23:03:42+03:00</td>\n",
       "    </tr>\n",
       "    <tr>\n",
       "      <th>4</th>\n",
       "      <td>2024-06-01 22:48:09+03:00</td>\n",
       "      <td>Moscow</td>\n",
       "      <td>smartphone</td>\n",
       "      <td>mobile app</td>\n",
       "      <td>Android</td>\n",
       "      <td>Rutube</td>\n",
       "      <td>71</td>\n",
       "      <td>video_116245</td>\n",
       "      <td>10452976</td>\n",
       "      <td>Europe/Moscow</td>\n",
       "      <td>2024-06-01 22:48:09+03:00</td>\n",
       "    </tr>\n",
       "  </tbody>\n",
       "</table>\n",
       "</div>"
      ]
     },
     "execution_count": 8,
     "metadata": {},
     "output_type": "execute_result"
    }
   ],
   "execution_count": 8
  },
  {
   "metadata": {},
   "cell_type": "markdown",
   "source": "## График по датам",
   "id": "2607183303258dd7"
  },
  {
   "metadata": {
    "ExecuteTime": {
     "end_time": "2024-09-28T09:24:24.246560Z",
     "start_time": "2024-09-28T09:24:23.373629Z"
    }
   },
   "cell_type": "code",
   "source": [
    "date_col = pd.to_datetime(df_with_localtime[\"local_time\"], utc=True)\n",
    "date_col.dt.date"
   ],
   "id": "f3906c4ee29c7b64",
   "outputs": [
    {
     "data": {
      "text/plain": [
       "0          2024-06-01\n",
       "1          2024-06-01\n",
       "2          2024-06-01\n",
       "3          2024-06-01\n",
       "4          2024-06-01\n",
       "              ...    \n",
       "1759611    2024-06-30\n",
       "1759612    2024-06-29\n",
       "1759613    2024-06-30\n",
       "1759614    2024-06-30\n",
       "1759615    2024-06-30\n",
       "Name: local_time, Length: 1759616, dtype: object"
      ]
     },
     "execution_count": 16,
     "metadata": {},
     "output_type": "execute_result"
    }
   ],
   "execution_count": 16
  },
  {
   "metadata": {
    "ExecuteTime": {
     "end_time": "2024-09-28T09:49:35.107720Z",
     "start_time": "2024-09-28T09:49:33.015179Z"
    }
   },
   "cell_type": "code",
   "source": [
    "fig = sns.displot(date_col.dt.date)\n",
    "plt.title('Зависимость количества просмотров от даты')\n",
    "fig.ax.tick_params(axis='x', labelrotation=90)\n",
    "plt.xlabel('Дата')\n",
    "plt.ylabel('Количество')\n",
    "plt.show()"
   ],
   "id": "f515ca66ed02d8a9",
   "outputs": [
    {
     "data": {
      "text/plain": [
       "<Figure size 500x500 with 1 Axes>"
      ],
      "image/png": "[encoded data removed]"
     },
     "metadata": {},
     "output_type": "display_data"
    }
   ],
   "execution_count": 44
  },
  {
   "metadata": {
    "ExecuteTime": {
     "end_time": "2024-09-28T09:47:30.048354Z",
     "start_time": "2024-09-28T09:47:29.356226Z"
    }
   },
   "cell_type": "code",
   "source": [
    "fig = sns.displot(date_col.dt.dayofweek)\n",
    "plt.title('Зависимость количества просмотров от дня недели')\n",
    "plt.xlabel('День недели')\n",
    "plt.ylabel('Количество')\n",
    "plt.show()"
   ],
   "id": "846fa507b4b3e799",
   "outputs": [
    {
     "data": {
      "text/plain": [
       "<Figure size 500x500 with 1 Axes>"
      ],
      "image/png": "[encoded data removed]"
     },
     "metadata": {},
     "output_type": "display_data"
    }
   ],
   "execution_count": 33
  },
  {
   "metadata": {},
   "cell_type": "code",
   "outputs": [],
   "execution_count": null,
   "source": "",
   "id": "dbcab048cb7b40f3"
  }
 ],
 "metadata": {
  "kernelspec": {
   "display_name": "Python 3 (ipykernel)",
   "language": "python",
   "name": "python3"
  },
  "language_info": {
   "codemirror_mode": {
    "name": "ipython",
    "version": 3
   },
   "file_extension": ".py",
   "mimetype": "text/x-python",
   "name": "python",
   "nbconvert_exporter": "python",
   "pygments_lexer": "ipython3",
   "version": "3.11.5"
  },
  "toc": {
   "base_numbering": 1,
   "nav_menu": {},
   "number_sections": true,
   "sideBar": true,
   "skip_h1_title": false,
   "title_cell": "Table of Contents",
   "title_sidebar": "Contents",
   "toc_cell": false,
   "toc_position": {},
   "toc_section_display": true,
   "toc_window_display": false
  }
 },
 "nbformat": 4,
 "nbformat_minor": 5
}
