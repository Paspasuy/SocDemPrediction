{
 "cells": [
  {
   "cell_type": "code",
   "execution_count": 1,
   "metadata": {},
   "outputs": [],
   "source": [
    "import torch\n",
    "import os\n",
    "import torch.nn.functional as F\n",
    "from torch import Tensor\n",
    "import torch.nn as nn\n",
    "from transformers import AutoTokenizer, AutoModel, AutoModelForSequenceClassification\n",
    "import pandas as pd\n",
    "import seaborn as sns\n",
    "import numpy as np\n",
    "from tqdm import tqdm, trange"
   ]
  },
  {
   "cell_type": "code",
   "execution_count": 3,
   "metadata": {},
   "outputs": [
    {
     "data": {
      "application/vnd.jupyter.widget-view+json": {
       "model_id": "04d423db1f9b476aa07a9f2668ba5586",
       "version_major": 2,
       "version_minor": 0
      },
      "text/plain": [
       "tokenizer_config.json:   0%|          | 0.00/1.18k [00:00<?, ?B/s]"
      ]
     },
     "metadata": {},
     "output_type": "display_data"
    },
    {
     "data": {
      "application/vnd.jupyter.widget-view+json": {
       "model_id": "b3bc86b20a174cb28de0175969f32899",
       "version_major": 2,
       "version_minor": 0
      },
      "text/plain": [
       "sentencepiece.bpe.model:   0%|          | 0.00/5.07M [00:00<?, ?B/s]"
      ]
     },
     "metadata": {},
     "output_type": "display_data"
    },
    {
     "data": {
      "application/vnd.jupyter.widget-view+json": {
       "model_id": "d96f1e9a303142e89a4a11725f7ba173",
       "version_major": 2,
       "version_minor": 0
      },
      "text/plain": [
       "tokenizer.json:   0%|          | 0.00/17.1M [00:00<?, ?B/s]"
      ]
     },
     "metadata": {},
     "output_type": "display_data"
    },
    {
     "data": {
      "application/vnd.jupyter.widget-view+json": {
       "model_id": "3e5a0a8d115c4b6db21c5965d6cebd78",
       "version_major": 2,
       "version_minor": 0
      },
      "text/plain": [
       "special_tokens_map.json:   0%|          | 0.00/964 [00:00<?, ?B/s]"
      ]
     },
     "metadata": {},
     "output_type": "display_data"
    },
    {
     "data": {
      "application/vnd.jupyter.widget-view+json": {
       "model_id": "4f88afadbb294162a7b88f86255cd56f",
       "version_major": 2,
       "version_minor": 0
      },
      "text/plain": [
       "config.json:   0%|          | 0.00/690 [00:00<?, ?B/s]"
      ]
     },
     "metadata": {},
     "output_type": "display_data"
    },
    {
     "data": {
      "application/vnd.jupyter.widget-view+json": {
       "model_id": "2d3cc9d0964943df89bc186a21e0b03b",
       "version_major": 2,
       "version_minor": 0
      },
      "text/plain": [
       "model.safetensors:   0%|          | 0.00/1.12G [00:00<?, ?B/s]"
      ]
     },
     "metadata": {},
     "output_type": "display_data"
    }
   ],
   "source": [
    "os.environ[\"CUDA_DEVICE_ORDER\"]=\"PCI_BUS_ID\"\n",
    "\n",
    "def last_token_pool(last_hidden_states: Tensor,\n",
    "                 attention_mask: Tensor) -> Tensor:\n",
    "    left_padding = (attention_mask[:, -1].sum() == attention_mask.shape[0])\n",
    "    if left_padding:\n",
    "        return last_hidden_states[:, -1]\n",
    "    else:\n",
    "        sequence_lengths = attention_mask.sum(dim=1) - 1\n",
    "        batch_size = last_hidden_states.shape[0]\n",
    "        return last_hidden_states[torch.arange(batch_size, device=last_hidden_states.device), sequence_lengths]\n",
    "\n",
    "def get_detailed_instruct(task_description: str, query: str) -> str:\n",
    "    return f'Instruct: {task_description}\\nQuery: {query}'\n",
    "\n",
    "def sbs(strings, size=30, space=4):\n",
    "    strings = list(strings)\n",
    "    result = []\n",
    "\n",
    "    while any(strings):\n",
    "        line = []\n",
    "\n",
    "        for i, s in enumerate(strings):\n",
    "            if s is None:\n",
    "                s = \"\"\n",
    "            buf = s[:size]\n",
    "            \n",
    "            try:\n",
    "                n = buf.index(\"\\n\")\n",
    "                line.append(buf[:n].ljust(size))\n",
    "                strings[i] = s[n+1:]\n",
    "            except ValueError:\n",
    "                line.append(buf.ljust(size))\n",
    "                strings[i] = s[size:]\n",
    "\n",
    "        result.append((\" \" * space).join(line))\n",
    "    \n",
    "    return \"\\n\".join(result)\n",
    "\n",
    "# device = \"cuda:4\"\n",
    "\n",
    "# load model and tokenizer\n",
    "tokenizer = AutoTokenizer.from_pretrained('intfloat/multilingual-e5-large-instruct')\n",
    "model = AutoModel.from_pretrained('intfloat/multilingual-e5-large-instruct')"
   ]
  },
  {
   "cell_type": "code",
   "execution_count": 4,
   "metadata": {},
   "outputs": [],
   "source": [
    "device_ids = [3]\n",
    "model = nn.DataParallel(model, device_ids=device_ids)\n",
    "n_gpu = len(device_ids)"
   ]
  },
  {
   "cell_type": "code",
   "execution_count": 5,
   "metadata": {},
   "outputs": [
    {
     "data": {
      "text/plain": [
       "[3]"
      ]
     },
     "execution_count": 5,
     "metadata": {},
     "output_type": "execute_result"
    }
   ],
   "source": [
    "model.to(f\"cuda:{device_ids[0]}\")\n",
    "model.device_ids"
   ]
  },
  {
   "cell_type": "code",
   "execution_count": 9,
   "metadata": {},
   "outputs": [],
   "source": [
    "max_length = 512\n",
    "def tokenize(texts):\n",
    "    tensors = tokenizer(texts, max_length=max_length, padding=True, truncation=True, return_tensors=\"pt\")\n",
    "    return {k : v for k, v in tensors.items()}\n",
    "\n",
    "def embed(texts):\n",
    "    with torch.no_grad():\n",
    "        t = tokenize(texts)\n",
    "        \n",
    "        last_state = model(**t).last_hidden_state\n",
    "        return last_token_pool(last_state, t[\"attention_mask\"])\n",
    "\n",
    "def embed_batched(texts, bs=128):\n",
    "    n = len(texts)\n",
    "    res = []\n",
    "    for i in trange(0, n, bs):\n",
    "        res.append(embed(texts[i:i+bs]))\n",
    "    return list(torch.cat(res).cpu().numpy().squeeze())"
   ]
  },
  {
   "cell_type": "code",
   "execution_count": 2,
   "metadata": {},
   "outputs": [],
   "source": [
    "path = \"../../data/\"\n",
    "data = pd.read_csv(path + 'train_events.csv')\n",
    "video = pd.read_csv(path + 'video_info_v2.csv')\n",
    "targets = pd.read_csv(path + 'train_targets.csv')"
   ]
  },
  {
   "cell_type": "code",
   "execution_count": 10,
   "metadata": {},
   "outputs": [
    {
     "name": "stderr",
     "output_type": "stream",
     "text": [
      "100%|██████████| 3762/3762 [17:39<00:00,  3.55it/s]\n"
     ]
    }
   ],
   "source": [
    "embeds = embed_batched(list(video['title']))"
   ]
  },
  {
   "cell_type": "code",
   "execution_count": 34,
   "metadata": {},
   "outputs": [],
   "source": [
    "#np.save('data/embeds.npy', embeds)\n",
    "embeds = np.load('data/embeds.npy')"
   ]
  },
  {
   "cell_type": "code",
   "execution_count": 35,
   "metadata": {},
   "outputs": [],
   "source": [
    "from sklearn.decomposition import PCA\n",
    "\n",
    "def reduce_dimensionality(data, target_dimension=32):\n",
    "    \"\"\"\n",
    "    Уменьшает размерность данных с d до target_dimension с помощью PCA.\n",
    "\n",
    "    Args:\n",
    "        data (numpy.ndarray): Исходные данные размерности (n_samples, d).\n",
    "        target_dimension (int): Желаемая размерность выходных данных. По умолчанию 32.\n",
    "\n",
    "    Returns:\n",
    "        numpy.ndarray: Данные размерности (n_samples, target_dimension).\n",
    "    \"\"\"\n",
    "    # Инициализируем PCA с целевой размерностью\n",
    "    pca = PCA(n_components=target_dimension)\n",
    "    \n",
    "    # Применяем PCA к данным\n",
    "    reduced_data = pca.fit_transform(data)\n",
    "    \n",
    "    return reduced_data"
   ]
  },
  {
   "cell_type": "code",
   "execution_count": 36,
   "metadata": {},
   "outputs": [],
   "source": [
    "embeds_32 = reduce_dimensionality(embeds, target_dimension=256)"
   ]
  },
  {
   "cell_type": "code",
   "execution_count": 3,
   "metadata": {},
   "outputs": [],
   "source": [
    "#np.save('data/embeds_32.npy', embeds_32)\n",
    "embeds_32 = np.load('data/embeds_32.npy')"
   ]
  },
  {
   "cell_type": "code",
   "execution_count": 4,
   "metadata": {},
   "outputs": [
    {
     "data": {
      "text/html": [
       "<div>\n",
       "<style scoped>\n",
       "    .dataframe tbody tr th:only-of-type {\n",
       "        vertical-align: middle;\n",
       "    }\n",
       "\n",
       "    .dataframe tbody tr th {\n",
       "        vertical-align: top;\n",
       "    }\n",
       "\n",
       "    .dataframe thead th {\n",
       "        text-align: right;\n",
       "    }\n",
       "</style>\n",
       "<table border=\"1\" class=\"dataframe\">\n",
       "  <thead>\n",
       "    <tr style=\"text-align: right;\">\n",
       "      <th></th>\n",
       "      <th>viewer_uid</th>\n",
       "      <th>age</th>\n",
       "      <th>sex</th>\n",
       "      <th>age_class</th>\n",
       "    </tr>\n",
       "  </thead>\n",
       "  <tbody>\n",
       "    <tr>\n",
       "      <th>0</th>\n",
       "      <td>10087154</td>\n",
       "      <td>30</td>\n",
       "      <td>male</td>\n",
       "      <td>1</td>\n",
       "    </tr>\n",
       "    <tr>\n",
       "      <th>1</th>\n",
       "      <td>10908708</td>\n",
       "      <td>25</td>\n",
       "      <td>female</td>\n",
       "      <td>1</td>\n",
       "    </tr>\n",
       "    <tr>\n",
       "      <th>2</th>\n",
       "      <td>10190464</td>\n",
       "      <td>34</td>\n",
       "      <td>male</td>\n",
       "      <td>2</td>\n",
       "    </tr>\n",
       "    <tr>\n",
       "      <th>3</th>\n",
       "      <td>10939673</td>\n",
       "      <td>25</td>\n",
       "      <td>male</td>\n",
       "      <td>1</td>\n",
       "    </tr>\n",
       "    <tr>\n",
       "      <th>4</th>\n",
       "      <td>10288257</td>\n",
       "      <td>48</td>\n",
       "      <td>male</td>\n",
       "      <td>3</td>\n",
       "    </tr>\n",
       "  </tbody>\n",
       "</table>\n",
       "</div>"
      ],
      "text/plain": [
       "   viewer_uid  age     sex  age_class\n",
       "0    10087154   30    male          1\n",
       "1    10908708   25  female          1\n",
       "2    10190464   34    male          2\n",
       "3    10939673   25    male          1\n",
       "4    10288257   48    male          3"
      ]
     },
     "execution_count": 4,
     "metadata": {},
     "output_type": "execute_result"
    }
   ],
   "source": [
    "targets.head()"
   ]
  },
  {
   "cell_type": "code",
   "execution_count": 5,
   "metadata": {},
   "outputs": [
    {
     "data": {
      "text/html": [
       "<div>\n",
       "<style scoped>\n",
       "    .dataframe tbody tr th:only-of-type {\n",
       "        vertical-align: middle;\n",
       "    }\n",
       "\n",
       "    .dataframe tbody tr th {\n",
       "        vertical-align: top;\n",
       "    }\n",
       "\n",
       "    .dataframe thead th {\n",
       "        text-align: right;\n",
       "    }\n",
       "</style>\n",
       "<table border=\"1\" class=\"dataframe\">\n",
       "  <thead>\n",
       "    <tr style=\"text-align: right;\">\n",
       "      <th></th>\n",
       "      <th>event_timestamp</th>\n",
       "      <th>region</th>\n",
       "      <th>ua_device_type</th>\n",
       "      <th>ua_client_type</th>\n",
       "      <th>ua_os</th>\n",
       "      <th>ua_client_name</th>\n",
       "      <th>total_watchtime</th>\n",
       "      <th>rutube_video_id</th>\n",
       "      <th>viewer_uid</th>\n",
       "    </tr>\n",
       "  </thead>\n",
       "  <tbody>\n",
       "    <tr>\n",
       "      <th>0</th>\n",
       "      <td>2024-06-01 06:40:58+03:00</td>\n",
       "      <td>Chelyabinsk</td>\n",
       "      <td>desktop</td>\n",
       "      <td>browser</td>\n",
       "      <td>Windows</td>\n",
       "      <td>Yandex Browser</td>\n",
       "      <td>1883</td>\n",
       "      <td>video_133074</td>\n",
       "      <td>10067243</td>\n",
       "    </tr>\n",
       "    <tr>\n",
       "      <th>1</th>\n",
       "      <td>2024-06-01 19:33:24+03:00</td>\n",
       "      <td>Bashkortostan Republic</td>\n",
       "      <td>smartphone</td>\n",
       "      <td>mobile app</td>\n",
       "      <td>Android</td>\n",
       "      <td>Rutube</td>\n",
       "      <td>512</td>\n",
       "      <td>video_362960</td>\n",
       "      <td>10245341</td>\n",
       "    </tr>\n",
       "    <tr>\n",
       "      <th>2</th>\n",
       "      <td>2024-06-01 21:30:43+03:00</td>\n",
       "      <td>St.-Petersburg</td>\n",
       "      <td>desktop</td>\n",
       "      <td>browser</td>\n",
       "      <td>Windows</td>\n",
       "      <td>Chrome</td>\n",
       "      <td>5647</td>\n",
       "      <td>video_96775</td>\n",
       "      <td>10894333</td>\n",
       "    </tr>\n",
       "    <tr>\n",
       "      <th>3</th>\n",
       "      <td>2024-06-01 23:03:42+03:00</td>\n",
       "      <td>Moscow</td>\n",
       "      <td>smartphone</td>\n",
       "      <td>mobile app</td>\n",
       "      <td>Android</td>\n",
       "      <td>Rutube</td>\n",
       "      <td>1521</td>\n",
       "      <td>video_161610</td>\n",
       "      <td>10029092</td>\n",
       "    </tr>\n",
       "    <tr>\n",
       "      <th>4</th>\n",
       "      <td>2024-06-01 22:48:09+03:00</td>\n",
       "      <td>Moscow</td>\n",
       "      <td>smartphone</td>\n",
       "      <td>mobile app</td>\n",
       "      <td>Android</td>\n",
       "      <td>Rutube</td>\n",
       "      <td>71</td>\n",
       "      <td>video_116245</td>\n",
       "      <td>10452976</td>\n",
       "    </tr>\n",
       "  </tbody>\n",
       "</table>\n",
       "</div>"
      ],
      "text/plain": [
       "             event_timestamp                  region ua_device_type  \\\n",
       "0  2024-06-01 06:40:58+03:00             Chelyabinsk        desktop   \n",
       "1  2024-06-01 19:33:24+03:00  Bashkortostan Republic     smartphone   \n",
       "2  2024-06-01 21:30:43+03:00          St.-Petersburg        desktop   \n",
       "3  2024-06-01 23:03:42+03:00                  Moscow     smartphone   \n",
       "4  2024-06-01 22:48:09+03:00                  Moscow     smartphone   \n",
       "\n",
       "  ua_client_type    ua_os  ua_client_name  total_watchtime rutube_video_id  \\\n",
       "0        browser  Windows  Yandex Browser             1883    video_133074   \n",
       "1     mobile app  Android          Rutube              512    video_362960   \n",
       "2        browser  Windows          Chrome             5647     video_96775   \n",
       "3     mobile app  Android          Rutube             1521    video_161610   \n",
       "4     mobile app  Android          Rutube               71    video_116245   \n",
       "\n",
       "   viewer_uid  \n",
       "0    10067243  \n",
       "1    10245341  \n",
       "2    10894333  \n",
       "3    10029092  \n",
       "4    10452976  "
      ]
     },
     "execution_count": 5,
     "metadata": {},
     "output_type": "execute_result"
    }
   ],
   "source": [
    "data.head()"
   ]
  },
  {
   "cell_type": "code",
   "execution_count": 6,
   "metadata": {},
   "outputs": [],
   "source": [
    "data = data.sort_values(by='event_timestamp')"
   ]
  },
  {
   "cell_type": "code",
   "execution_count": 7,
   "metadata": {},
   "outputs": [
    {
     "data": {
      "text/html": [
       "<div>\n",
       "<style scoped>\n",
       "    .dataframe tbody tr th:only-of-type {\n",
       "        vertical-align: middle;\n",
       "    }\n",
       "\n",
       "    .dataframe tbody tr th {\n",
       "        vertical-align: top;\n",
       "    }\n",
       "\n",
       "    .dataframe thead th {\n",
       "        text-align: right;\n",
       "    }\n",
       "</style>\n",
       "<table border=\"1\" class=\"dataframe\">\n",
       "  <thead>\n",
       "    <tr style=\"text-align: right;\">\n",
       "      <th></th>\n",
       "      <th>rutube_video_id</th>\n",
       "      <th>title</th>\n",
       "      <th>category</th>\n",
       "      <th>duration</th>\n",
       "      <th>author_id</th>\n",
       "    </tr>\n",
       "  </thead>\n",
       "  <tbody>\n",
       "    <tr>\n",
       "      <th>0</th>\n",
       "      <td>video_185549</td>\n",
       "      <td>Как собрать букет из мыльных тюльпанов - Силик...</td>\n",
       "      <td>Хобби</td>\n",
       "      <td>1559160</td>\n",
       "      <td>1015054</td>\n",
       "    </tr>\n",
       "    <tr>\n",
       "      <th>1</th>\n",
       "      <td>video_111035</td>\n",
       "      <td>Осторожно, Киберземляне!, 1 сезон, 12 серия</td>\n",
       "      <td>Сериалы</td>\n",
       "      <td>1320007</td>\n",
       "      <td>1002180</td>\n",
       "    </tr>\n",
       "    <tr>\n",
       "      <th>2</th>\n",
       "      <td>video_476517</td>\n",
       "      <td>ПОПУЛЯРНЫЕ ВИДЕОИГРЫ в LEGO... перевод - TD BR...</td>\n",
       "      <td>Хобби</td>\n",
       "      <td>606145</td>\n",
       "      <td>1095337</td>\n",
       "    </tr>\n",
       "    <tr>\n",
       "      <th>3</th>\n",
       "      <td>video_157198</td>\n",
       "      <td>Хороший лжец (фильм, 2019)</td>\n",
       "      <td>Фильмы</td>\n",
       "      <td>6577440</td>\n",
       "      <td>1043618</td>\n",
       "    </tr>\n",
       "    <tr>\n",
       "      <th>4</th>\n",
       "      <td>video_289824</td>\n",
       "      <td>Нашего старого гнобят по-всякому</td>\n",
       "      <td>Развлечения</td>\n",
       "      <td>859493</td>\n",
       "      <td>1009535</td>\n",
       "    </tr>\n",
       "  </tbody>\n",
       "</table>\n",
       "</div>"
      ],
      "text/plain": [
       "  rutube_video_id                                              title  \\\n",
       "0    video_185549  Как собрать букет из мыльных тюльпанов - Силик...   \n",
       "1    video_111035        Осторожно, Киберземляне!, 1 сезон, 12 серия   \n",
       "2    video_476517  ПОПУЛЯРНЫЕ ВИДЕОИГРЫ в LEGO... перевод - TD BR...   \n",
       "3    video_157198                         Хороший лжец (фильм, 2019)   \n",
       "4    video_289824                   Нашего старого гнобят по-всякому   \n",
       "\n",
       "      category  duration  author_id  \n",
       "0        Хобби   1559160    1015054  \n",
       "1      Сериалы   1320007    1002180  \n",
       "2        Хобби    606145    1095337  \n",
       "3       Фильмы   6577440    1043618  \n",
       "4  Развлечения    859493    1009535  "
      ]
     },
     "execution_count": 7,
     "metadata": {},
     "output_type": "execute_result"
    }
   ],
   "source": [
    "video.head()"
   ]
  },
  {
   "cell_type": "code",
   "execution_count": 64,
   "metadata": {},
   "outputs": [
    {
     "name": "stdout",
     "output_type": "stream",
     "text": [
      "Learning rate set to 0.186365\n",
      "0:\tlearn: 2.5413746\ttest: 2.5440332\tbest: 2.5440332 (0)\ttotal: 45.5ms\tremaining: 45.5s\n",
      "150:\tlearn: 1.2579594\ttest: 1.3729223\tbest: 1.3729223 (150)\ttotal: 6.78s\tremaining: 38.1s\n",
      "300:\tlearn: 1.0873548\ttest: 1.3018527\tbest: 1.3018527 (300)\ttotal: 13.2s\tremaining: 30.8s\n",
      "450:\tlearn: 0.9761509\ttest: 1.2705220\tbest: 1.2705220 (450)\ttotal: 19.4s\tremaining: 23.7s\n",
      "600:\tlearn: 0.8851510\ttest: 1.2521097\tbest: 1.2521097 (600)\ttotal: 25.5s\tremaining: 16.9s\n",
      "750:\tlearn: 0.8108169\ttest: 1.2402380\tbest: 1.2402380 (750)\ttotal: 31.6s\tremaining: 10.5s\n",
      "900:\tlearn: 0.7452689\ttest: 1.2328872\tbest: 1.2328872 (900)\ttotal: 37.8s\tremaining: 4.15s\n",
      "999:\tlearn: 0.7057376\ttest: 1.2285114\tbest: 1.2285114 (999)\ttotal: 41.9s\tremaining: 0us\n",
      "bestTest = 1.228511406\n",
      "bestIteration = 999\n",
      "Classification report for gender prediction:\n",
      "                              precision    recall  f1-score   support\n",
      "\n",
      "                   Авто-мото       0.58      0.42      0.49      1606\n",
      "                       Аниме       0.86      0.82      0.84      1555\n",
      "                       Аудио       0.76      0.06      0.10       236\n",
      "                  Аудиокниги       0.71      0.63      0.67       795\n",
      "Бизнес и предпринимательство       0.51      0.35      0.42       483\n",
      "                   Видеоигры       0.69      0.71      0.70      6613\n",
      "                       Детям       0.64      0.55      0.59      2048\n",
      "                      Дизайн       0.27      0.04      0.07       102\n",
      "                         Еда       0.61      0.63      0.62      1102\n",
      "                    Животные       0.50      0.33      0.40       431\n",
      "                    Здоровье       0.54      0.45      0.49       701\n",
      "                    Интервью       0.52      0.42      0.47      1391\n",
      "                     Красота       0.68      0.39      0.50       371\n",
      "                    Культура       0.37      0.16      0.22       853\n",
      "                   Лайфстайл       0.33      0.11      0.17      2525\n",
      "                    Лайфхаки       0.52      0.12      0.20       362\n",
      "                Люди и блоги       0.73      0.10      0.18       441\n",
      "                      Музыка       0.61      0.68      0.64      5445\n",
      "                 Мультфильмы       0.72      0.53      0.61      1289\n",
      "                       Наука       0.47      0.26      0.34       555\n",
      "                Недвижимость       0.62      0.31      0.41       130\n",
      " Обзоры и распаковки товаров       0.45      0.15      0.23       585\n",
      "                    Обучение       0.49      0.38      0.43      2641\n",
      "             Охота и рыбалка       0.52      0.33      0.40       388\n",
      "                     Природа       0.30      0.11      0.16       271\n",
      "                  Психология       0.52      0.41      0.46       628\n",
      "                 Путешествия       0.46      0.36      0.40      1085\n",
      "                 Развлечения       0.49      0.26      0.34      4637\n",
      "                      Разное       0.50      0.70      0.59     28216\n",
      "                Сад и огород       0.61      0.35      0.44       362\n",
      "                     Сериалы       0.88      0.93      0.90      9957\n",
      "                       Спорт       0.65      0.59      0.62      1475\n",
      "      Строительство и ремонт       0.39      0.15      0.22       473\n",
      "                Телепередачи       0.82      0.82      0.82      7164\n",
      "      Техника и оборудование       0.34      0.09      0.14       844\n",
      "       Технологии и интернет       0.46      0.25      0.33      1018\n",
      "                      Фильмы       0.73      0.66      0.69      3346\n",
      "                       Хобби       0.46      0.18      0.26       943\n",
      "                   Эзотерика       0.67      0.51      0.58      1158\n",
      "                        Юмор       0.72      0.57      0.64      2071\n",
      "\n",
      "                    accuracy                           0.61     96296\n",
      "                   macro avg       0.57      0.40      0.44     96296\n",
      "                weighted avg       0.61      0.61      0.60     96296\n",
      "\n"
     ]
    }
   ],
   "source": [
    "X = np.stack(video['embeds'])\n",
    "y = video['category']\n",
    "\n",
    "X_train, X_test, y_train, y_test = train_test_split(X, y, test_size=0.4, random_state=42)\n",
    "X_val, X_test, y_val, y_test = train_test_split(X_test, y_test, test_size=0.5, random_state=42)\n",
    "\n",
    "# CatBoost для предсказания пола\n",
    "catboost_cat = CatBoostClassifier(iterations=1000, verbose=150, task_type=\"GPU\", devices='3')\n",
    "catboost_cat.fit(X_train, y_train, eval_set=(X_val, y_val))\n",
    "y_pred_gender = catboost_cat.predict(X_test)\n",
    "\n",
    "print(\"Classification report for gender prediction:\")\n",
    "print(classification_report(y_test, y_pred_gender))"
   ]
  },
  {
   "cell_type": "code",
   "execution_count": 8,
   "metadata": {},
   "outputs": [],
   "source": [
    "video['duration_sec'] = video['duration'] / 1000"
   ]
  },
  {
   "cell_type": "code",
   "execution_count": 9,
   "metadata": {},
   "outputs": [],
   "source": [
    "video[[f'embeds_{i}' for i in range(32)]] = embeds_32"
   ]
  },
  {
   "cell_type": "code",
   "execution_count": 10,
   "metadata": {},
   "outputs": [],
   "source": [
    "video['embeds'] = list(embeds_32)"
   ]
  },
  {
   "cell_type": "code",
   "execution_count": 11,
   "metadata": {},
   "outputs": [],
   "source": [
    "data = pd.merge(data, video[['rutube_video_id', 'embeds', 'duration_sec']], on='rutube_video_id', how='inner')"
   ]
  },
  {
   "cell_type": "code",
   "execution_count": 12,
   "metadata": {},
   "outputs": [],
   "source": [
    "data['part_wached'] = data['total_watchtime'] / data['duration_sec']"
   ]
  },
  {
   "cell_type": "code",
   "execution_count": 13,
   "metadata": {},
   "outputs": [
    {
     "name": "stderr",
     "output_type": "stream",
     "text": [
      "/var/tmp/ipykernel_861696/493654150.py:11: DeprecationWarning: DataFrameGroupBy.apply operated on the grouping columns. This behavior is deprecated, and in a future version of pandas the grouping columns will be excluded from the operation. Either pass `include_groups=False` to exclude the groupings or explicitly select the grouping columns after groupby to silence this warning.\n",
      "  users_embeds = data.groupby('viewer_uid').apply(custom_aggregation)\n"
     ]
    }
   ],
   "source": [
    "# Усредняем с коэффициентами\n",
    "def custom_aggregation(df):\n",
    "    coeffs = np.array(df['part_wached'])\n",
    "    coeffs /= np.linalg.norm(coeffs)\n",
    "    return np.sum([coef * vec for vec, coef in zip(df['embeds'], coeffs)], axis=0)\n",
    "\n",
    "\n",
    "def no_aggregation(df):\n",
    "    return np.array(df['embeds'])\n",
    "\n",
    "users_embeds = data.groupby('viewer_uid').apply(custom_aggregation)"
   ]
  },
  {
   "cell_type": "code",
   "execution_count": 14,
   "metadata": {},
   "outputs": [],
   "source": [
    "users_embeds.name = 'embed'"
   ]
  },
  {
   "cell_type": "code",
   "execution_count": 15,
   "metadata": {},
   "outputs": [],
   "source": [
    "targets = pd.merge(users_embeds, targets, on='viewer_uid', how='inner')"
   ]
  },
  {
   "cell_type": "code",
   "execution_count": 16,
   "metadata": {},
   "outputs": [
    {
     "data": {
      "text/html": [
       "<div>\n",
       "<style scoped>\n",
       "    .dataframe tbody tr th:only-of-type {\n",
       "        vertical-align: middle;\n",
       "    }\n",
       "\n",
       "    .dataframe tbody tr th {\n",
       "        vertical-align: top;\n",
       "    }\n",
       "\n",
       "    .dataframe thead th {\n",
       "        text-align: right;\n",
       "    }\n",
       "</style>\n",
       "<table border=\"1\" class=\"dataframe\">\n",
       "  <thead>\n",
       "    <tr style=\"text-align: right;\">\n",
       "      <th></th>\n",
       "      <th>viewer_uid</th>\n",
       "      <th>embed</th>\n",
       "      <th>age</th>\n",
       "      <th>sex</th>\n",
       "      <th>age_class</th>\n",
       "    </tr>\n",
       "  </thead>\n",
       "  <tbody>\n",
       "    <tr>\n",
       "      <th>0</th>\n",
       "      <td>10000001</td>\n",
       "      <td>[-12.513889382009461, 7.1613850705614315, -1.9...</td>\n",
       "      <td>40</td>\n",
       "      <td>female</td>\n",
       "      <td>2</td>\n",
       "    </tr>\n",
       "    <tr>\n",
       "      <th>1</th>\n",
       "      <td>10000002</td>\n",
       "      <td>[-8.857678614174775, 7.798440248333709, -0.388...</td>\n",
       "      <td>44</td>\n",
       "      <td>male</td>\n",
       "      <td>3</td>\n",
       "    </tr>\n",
       "    <tr>\n",
       "      <th>2</th>\n",
       "      <td>10000004</td>\n",
       "      <td>[0.6842827782612931, -0.6595857233902118, -3.8...</td>\n",
       "      <td>36</td>\n",
       "      <td>male</td>\n",
       "      <td>2</td>\n",
       "    </tr>\n",
       "    <tr>\n",
       "      <th>3</th>\n",
       "      <td>10000005</td>\n",
       "      <td>[2.962346634406903, -1.1010594439649803, -1.52...</td>\n",
       "      <td>38</td>\n",
       "      <td>male</td>\n",
       "      <td>2</td>\n",
       "    </tr>\n",
       "    <tr>\n",
       "      <th>4</th>\n",
       "      <td>10000006</td>\n",
       "      <td>[-3.6732354635099047, 0.7471836554557129, -0.0...</td>\n",
       "      <td>38</td>\n",
       "      <td>male</td>\n",
       "      <td>2</td>\n",
       "    </tr>\n",
       "  </tbody>\n",
       "</table>\n",
       "</div>"
      ],
      "text/plain": [
       "   viewer_uid                                              embed  age     sex  \\\n",
       "0    10000001  [-12.513889382009461, 7.1613850705614315, -1.9...   40  female   \n",
       "1    10000002  [-8.857678614174775, 7.798440248333709, -0.388...   44    male   \n",
       "2    10000004  [0.6842827782612931, -0.6595857233902118, -3.8...   36    male   \n",
       "3    10000005  [2.962346634406903, -1.1010594439649803, -1.52...   38    male   \n",
       "4    10000006  [-3.6732354635099047, 0.7471836554557129, -0.0...   38    male   \n",
       "\n",
       "   age_class  \n",
       "0          2  \n",
       "1          3  \n",
       "2          2  \n",
       "3          2  \n",
       "4          2  "
      ]
     },
     "execution_count": 16,
     "metadata": {},
     "output_type": "execute_result"
    }
   ],
   "source": [
    "targets.head()"
   ]
  },
  {
   "cell_type": "code",
   "execution_count": 17,
   "metadata": {},
   "outputs": [],
   "source": [
    "targets['sex'] = targets['sex'].apply(lambda x: 0 if x == 'male' else 1)"
   ]
  },
  {
   "cell_type": "code",
   "execution_count": 18,
   "metadata": {},
   "outputs": [],
   "source": [
    "targets[[f'embeds_{i}' for i in range(32)]] = np.stack(targets['embed'])"
   ]
  },
  {
   "cell_type": "code",
   "execution_count": 2,
   "metadata": {},
   "outputs": [],
   "source": [
    "targets = pd.read_csv('data/target_embeds-custom_aggregation.csv')"
   ]
  },
  {
   "cell_type": "code",
   "execution_count": 3,
   "metadata": {},
   "outputs": [
    {
     "data": {
      "text/html": [
       "<div>\n",
       "<style scoped>\n",
       "    .dataframe tbody tr th:only-of-type {\n",
       "        vertical-align: middle;\n",
       "    }\n",
       "\n",
       "    .dataframe tbody tr th {\n",
       "        vertical-align: top;\n",
       "    }\n",
       "\n",
       "    .dataframe thead th {\n",
       "        text-align: right;\n",
       "    }\n",
       "</style>\n",
       "<table border=\"1\" class=\"dataframe\">\n",
       "  <thead>\n",
       "    <tr style=\"text-align: right;\">\n",
       "      <th></th>\n",
       "      <th>viewer_uid</th>\n",
       "      <th>age</th>\n",
       "      <th>embeds_0</th>\n",
       "      <th>embeds_1</th>\n",
       "      <th>embeds_2</th>\n",
       "      <th>embeds_3</th>\n",
       "      <th>embeds_4</th>\n",
       "      <th>embeds_5</th>\n",
       "      <th>embeds_6</th>\n",
       "      <th>embeds_7</th>\n",
       "      <th>...</th>\n",
       "      <th>embeds_22</th>\n",
       "      <th>embeds_23</th>\n",
       "      <th>embeds_24</th>\n",
       "      <th>embeds_25</th>\n",
       "      <th>embeds_26</th>\n",
       "      <th>embeds_27</th>\n",
       "      <th>embeds_28</th>\n",
       "      <th>embeds_29</th>\n",
       "      <th>embeds_30</th>\n",
       "      <th>embeds_31</th>\n",
       "    </tr>\n",
       "  </thead>\n",
       "  <tbody>\n",
       "    <tr>\n",
       "      <th>0</th>\n",
       "      <td>10000001</td>\n",
       "      <td>40</td>\n",
       "      <td>-12.513889</td>\n",
       "      <td>7.161385</td>\n",
       "      <td>-1.921415</td>\n",
       "      <td>-2.510002</td>\n",
       "      <td>-2.536459</td>\n",
       "      <td>3.872850</td>\n",
       "      <td>1.688143</td>\n",
       "      <td>-2.812249</td>\n",
       "      <td>...</td>\n",
       "      <td>-2.259542</td>\n",
       "      <td>-5.150448</td>\n",
       "      <td>1.861434</td>\n",
       "      <td>0.296535</td>\n",
       "      <td>2.228844</td>\n",
       "      <td>-0.781238</td>\n",
       "      <td>0.979583</td>\n",
       "      <td>0.499716</td>\n",
       "      <td>-0.831642</td>\n",
       "      <td>2.697985</td>\n",
       "    </tr>\n",
       "    <tr>\n",
       "      <th>1</th>\n",
       "      <td>10000002</td>\n",
       "      <td>44</td>\n",
       "      <td>-8.857679</td>\n",
       "      <td>7.798440</td>\n",
       "      <td>-0.388398</td>\n",
       "      <td>-2.044650</td>\n",
       "      <td>1.806627</td>\n",
       "      <td>-0.580760</td>\n",
       "      <td>-2.159648</td>\n",
       "      <td>0.328372</td>\n",
       "      <td>...</td>\n",
       "      <td>-0.755430</td>\n",
       "      <td>-2.091100</td>\n",
       "      <td>2.445388</td>\n",
       "      <td>-0.896826</td>\n",
       "      <td>-2.626723</td>\n",
       "      <td>1.500267</td>\n",
       "      <td>-1.236043</td>\n",
       "      <td>-1.899359</td>\n",
       "      <td>1.300126</td>\n",
       "      <td>0.106583</td>\n",
       "    </tr>\n",
       "    <tr>\n",
       "      <th>2</th>\n",
       "      <td>10000004</td>\n",
       "      <td>36</td>\n",
       "      <td>0.684283</td>\n",
       "      <td>-0.659586</td>\n",
       "      <td>-3.842297</td>\n",
       "      <td>2.629033</td>\n",
       "      <td>0.829981</td>\n",
       "      <td>-2.002862</td>\n",
       "      <td>0.163314</td>\n",
       "      <td>3.279346</td>\n",
       "      <td>...</td>\n",
       "      <td>0.424814</td>\n",
       "      <td>-2.111815</td>\n",
       "      <td>1.891209</td>\n",
       "      <td>-0.343905</td>\n",
       "      <td>-0.277934</td>\n",
       "      <td>-0.358481</td>\n",
       "      <td>-0.651661</td>\n",
       "      <td>-1.051867</td>\n",
       "      <td>-0.105431</td>\n",
       "      <td>-1.498083</td>\n",
       "    </tr>\n",
       "    <tr>\n",
       "      <th>3</th>\n",
       "      <td>10000005</td>\n",
       "      <td>38</td>\n",
       "      <td>2.962347</td>\n",
       "      <td>-1.101059</td>\n",
       "      <td>-1.526201</td>\n",
       "      <td>-1.449923</td>\n",
       "      <td>-0.182694</td>\n",
       "      <td>-1.361750</td>\n",
       "      <td>-0.151736</td>\n",
       "      <td>-0.204418</td>\n",
       "      <td>...</td>\n",
       "      <td>0.395631</td>\n",
       "      <td>-0.477124</td>\n",
       "      <td>-0.675521</td>\n",
       "      <td>-0.393002</td>\n",
       "      <td>0.410601</td>\n",
       "      <td>-0.895560</td>\n",
       "      <td>-1.239015</td>\n",
       "      <td>-0.741628</td>\n",
       "      <td>-0.058947</td>\n",
       "      <td>-1.069365</td>\n",
       "    </tr>\n",
       "    <tr>\n",
       "      <th>4</th>\n",
       "      <td>10000006</td>\n",
       "      <td>38</td>\n",
       "      <td>-3.673235</td>\n",
       "      <td>0.747184</td>\n",
       "      <td>-0.086243</td>\n",
       "      <td>-0.816762</td>\n",
       "      <td>-0.109268</td>\n",
       "      <td>0.662777</td>\n",
       "      <td>-0.299665</td>\n",
       "      <td>-0.554059</td>\n",
       "      <td>...</td>\n",
       "      <td>-0.241953</td>\n",
       "      <td>1.485296</td>\n",
       "      <td>-0.144536</td>\n",
       "      <td>-0.001740</td>\n",
       "      <td>0.563425</td>\n",
       "      <td>-1.091279</td>\n",
       "      <td>0.212252</td>\n",
       "      <td>2.557632</td>\n",
       "      <td>0.318442</td>\n",
       "      <td>-0.514779</td>\n",
       "    </tr>\n",
       "  </tbody>\n",
       "</table>\n",
       "<p>5 rows × 34 columns</p>\n",
       "</div>"
      ],
      "text/plain": [
       "   viewer_uid  age   embeds_0  embeds_1  embeds_2  embeds_3  embeds_4  \\\n",
       "0    10000001   40 -12.513889  7.161385 -1.921415 -2.510002 -2.536459   \n",
       "1    10000002   44  -8.857679  7.798440 -0.388398 -2.044650  1.806627   \n",
       "2    10000004   36   0.684283 -0.659586 -3.842297  2.629033  0.829981   \n",
       "3    10000005   38   2.962347 -1.101059 -1.526201 -1.449923 -0.182694   \n",
       "4    10000006   38  -3.673235  0.747184 -0.086243 -0.816762 -0.109268   \n",
       "\n",
       "   embeds_5  embeds_6  embeds_7  ...  embeds_22  embeds_23  embeds_24  \\\n",
       "0  3.872850  1.688143 -2.812249  ...  -2.259542  -5.150448   1.861434   \n",
       "1 -0.580760 -2.159648  0.328372  ...  -0.755430  -2.091100   2.445388   \n",
       "2 -2.002862  0.163314  3.279346  ...   0.424814  -2.111815   1.891209   \n",
       "3 -1.361750 -0.151736 -0.204418  ...   0.395631  -0.477124  -0.675521   \n",
       "4  0.662777 -0.299665 -0.554059  ...  -0.241953   1.485296  -0.144536   \n",
       "\n",
       "   embeds_25  embeds_26  embeds_27  embeds_28  embeds_29  embeds_30  embeds_31  \n",
       "0   0.296535   2.228844  -0.781238   0.979583   0.499716  -0.831642   2.697985  \n",
       "1  -0.896826  -2.626723   1.500267  -1.236043  -1.899359   1.300126   0.106583  \n",
       "2  -0.343905  -0.277934  -0.358481  -0.651661  -1.051867  -0.105431  -1.498083  \n",
       "3  -0.393002   0.410601  -0.895560  -1.239015  -0.741628  -0.058947  -1.069365  \n",
       "4  -0.001740   0.563425  -1.091279   0.212252   2.557632   0.318442  -0.514779  \n",
       "\n",
       "[5 rows x 34 columns]"
      ]
     },
     "execution_count": 3,
     "metadata": {},
     "output_type": "execute_result"
    }
   ],
   "source": [
    "targets.head()"
   ]
  },
  {
   "cell_type": "code",
   "execution_count": 5,
   "metadata": {},
   "outputs": [],
   "source": [
    "targets.drop(columns=['age']).to_parquet('data/target_embeds-custom_aggregation.parquet', index=False)"
   ]
  },
  {
   "cell_type": "code",
   "execution_count": 49,
   "metadata": {},
   "outputs": [
    {
     "name": "stdout",
     "output_type": "stream",
     "text": [
      "Classification report for gender prediction:\n",
      "              precision    recall  f1-score   support\n",
      "\n",
      "           0       0.71      0.78      0.74     35900\n",
      "           1       0.76      0.69      0.72     36105\n",
      "\n",
      "    accuracy                           0.73     72005\n",
      "   macro avg       0.74      0.73      0.73     72005\n",
      "weighted avg       0.74      0.73      0.73     72005\n",
      "\n",
      "Classification report for age prediction:\n",
      "              precision    recall  f1-score   support\n",
      "\n",
      "           0       0.21      0.01      0.01      2992\n",
      "           1       0.46      0.59      0.51     25032\n",
      "           2       0.42      0.41      0.42     26458\n",
      "           3       0.47      0.36      0.41     17523\n",
      "\n",
      "    accuracy                           0.44     72005\n",
      "   macro avg       0.39      0.34      0.34     72005\n",
      "weighted avg       0.44      0.44      0.43     72005\n",
      "\n",
      "Classification report for age prediction:\n",
      "              precision    recall  f1-score   support\n",
      "\n",
      "           0       0.21      0.00      0.01      2992\n",
      "           1       0.51      0.12      0.20     25032\n",
      "           2       0.37      0.89      0.53     26458\n",
      "           3       0.57      0.10      0.16     17523\n",
      "\n",
      "    accuracy                           0.39     72005\n",
      "   macro avg       0.42      0.28      0.22     72005\n",
      "weighted avg       0.46      0.39      0.30     72005\n",
      "\n"
     ]
    }
   ],
   "source": [
    "import pandas as pd\n",
    "import numpy as np\n",
    "from sklearn.model_selection import train_test_split\n",
    "from sklearn.linear_model import LogisticRegression, LinearRegression\n",
    "from sklearn.metrics import accuracy_score, classification_report\n",
    "\n",
    "# Создание признаков и целевых переменных\n",
    "X = np.stack(targets['embed'])\n",
    "y = targets[['sex', 'age_class', 'age']]\n",
    "\n",
    "# Разделение на тренировочную и тестовую выборки\n",
    "X_train, X_test, y_train, y_test = train_test_split(X, y, test_size=0.4, random_state=42)\n",
    "\n",
    "# Логистическая регрессия для предсказания пола\n",
    "log_reg_gender = LogisticRegression(max_iter=1000)\n",
    "log_reg_gender.fit(X_train, y_train['sex'])\n",
    "y_pred_gender = log_reg_gender.predict(X_test)\n",
    "\n",
    "print(\"Classification report for gender prediction:\")\n",
    "print(classification_report(y_test['sex'], y_pred_gender))\n",
    "\n",
    "# Логистическая регрессия для предсказания возраста\n",
    "log_reg_age = LogisticRegression(max_iter=1000)\n",
    "log_reg_age.fit(X_train, y_train['age_class'])\n",
    "y_pred_age = log_reg_age.predict(X_test)\n",
    "\n",
    "print(\"Classification report for age prediction:\")\n",
    "print(classification_report(y_test['age_class'], y_pred_age))\n",
    "\n",
    "# Линейная регрессия для предсказания возраста\n",
    "lin_reg_age = LinearRegression()\n",
    "lin_reg_age.fit(X_train, y_train['age'] / y_train['age'].max())\n",
    "y_pred_age = lin_reg_age.predict(X_test) * y_train['age'].max()\n",
    "y_pred_age[(y_pred_age <= 20)] = 0\n",
    "y_pred_age[(20 < y_pred_age) & (y_pred_age <= 30)] = 1\n",
    "y_pred_age[(30 < y_pred_age) & (y_pred_age <= 40)] = 2\n",
    "y_pred_age[(40 < y_pred_age)] = 3\n",
    "\n",
    "print(\"Classification report for age prediction:\")\n",
    "print(classification_report(y_test['age_class'], y_pred_age))"
   ]
  },
  {
   "cell_type": "code",
   "execution_count": 50,
   "metadata": {},
   "outputs": [],
   "source": [
    "X_val, X_test, y_val, y_test = train_test_split(X_test, y_test, test_size=0.5, random_state=42)"
   ]
  },
  {
   "cell_type": "code",
   "execution_count": 51,
   "metadata": {},
   "outputs": [
    {
     "name": "stdout",
     "output_type": "stream",
     "text": [
      "Learning rate set to 0.100733\n",
      "0:\tlearn: 0.6680467\ttest: 0.6683222\tbest: 0.6683222 (0)\ttotal: 36.9ms\tremaining: 36.9s\n",
      "150:\tlearn: 0.5033954\ttest: 0.5193485\tbest: 0.5193485 (150)\ttotal: 3.86s\tremaining: 21.7s\n",
      "300:\tlearn: 0.4783710\ttest: 0.5123885\tbest: 0.5123885 (300)\ttotal: 7.8s\tremaining: 18.1s\n",
      "450:\tlearn: 0.4599059\ttest: 0.5104033\tbest: 0.5103961 (447)\ttotal: 11.7s\tremaining: 14.2s\n",
      "600:\tlearn: 0.4441091\ttest: 0.5097757\tbest: 0.5097469 (597)\ttotal: 15.4s\tremaining: 10.2s\n",
      "750:\tlearn: 0.4299061\ttest: 0.5094574\tbest: 0.5094227 (749)\ttotal: 19.2s\tremaining: 6.35s\n",
      "900:\tlearn: 0.4170739\ttest: 0.5096901\tbest: 0.5094227 (749)\ttotal: 22.9s\tremaining: 2.51s\n",
      "999:\tlearn: 0.4089430\ttest: 0.5099383\tbest: 0.5094227 (749)\ttotal: 25.5s\tremaining: 0us\n",
      "\n",
      "bestTest = 0.5094226816\n",
      "bestIteration = 749\n",
      "\n",
      "Shrink model to first 750 iterations.\n",
      "Classification report for gender prediction:\n",
      "              precision    recall  f1-score   support\n",
      "\n",
      "           0       0.73      0.76      0.74     17850\n",
      "           1       0.75      0.72      0.74     18153\n",
      "\n",
      "    accuracy                           0.74     36003\n",
      "   macro avg       0.74      0.74      0.74     36003\n",
      "weighted avg       0.74      0.74      0.74     36003\n",
      "\n",
      "Learning rate set to 0.118576\n",
      "0:\tlearn: 1.3482334\ttest: 1.3483660\tbest: 1.3483660 (0)\ttotal: 54.1ms\tremaining: 54s\n",
      "150:\tlearn: 1.0909374\ttest: 1.1217629\tbest: 1.1217629 (150)\ttotal: 6.96s\tremaining: 39.2s\n",
      "300:\tlearn: 1.0563672\ttest: 1.1154224\tbest: 1.1154224 (300)\ttotal: 13.9s\tremaining: 32.3s\n",
      "450:\tlearn: 1.0278247\ttest: 1.1135507\tbest: 1.1135149 (449)\ttotal: 20.4s\tremaining: 24.8s\n",
      "600:\tlearn: 1.0032708\ttest: 1.1128372\tbest: 1.1128123 (593)\ttotal: 26.9s\tremaining: 17.8s\n",
      "750:\tlearn: 0.9808172\ttest: 1.1135495\tbest: 1.1128123 (593)\ttotal: 33.6s\tremaining: 11.1s\n",
      "900:\tlearn: 0.9585834\ttest: 1.1138248\tbest: 1.1128123 (593)\ttotal: 40.2s\tremaining: 4.42s\n",
      "999:\tlearn: 0.9447409\ttest: 1.1144116\tbest: 1.1128123 (593)\ttotal: 44.6s\tremaining: 0us\n",
      "\n",
      "bestTest = 1.112812331\n",
      "bestIteration = 593\n",
      "\n",
      "Shrink model to first 594 iterations.\n",
      "Classification report for age prediction:\n",
      "              precision    recall  f1-score   support\n",
      "\n",
      "           0       0.24      0.00      0.01      1542\n",
      "           1       0.47      0.60      0.53     12396\n",
      "           2       0.43      0.40      0.41     13298\n",
      "           3       0.49      0.43      0.46      8767\n",
      "\n",
      "    accuracy                           0.46     36003\n",
      "   macro avg       0.41      0.36      0.35     36003\n",
      "weighted avg       0.45      0.46      0.45     36003\n",
      "\n"
     ]
    }
   ],
   "source": [
    "from catboost import CatBoostClassifier\n",
    "\n",
    "\n",
    "# CatBoost для предсказания пола\n",
    "catboost_gender = CatBoostClassifier(iterations=1000, verbose=150)\n",
    "catboost_gender.fit(X_train, y_train['sex'], eval_set=(X_val, y_val['sex']))\n",
    "y_pred_gender = catboost_gender.predict(X_test)\n",
    "\n",
    "print(\"Classification report for gender prediction:\")\n",
    "print(classification_report(y_test['sex'], y_pred_gender))\n",
    "\n",
    "# CatBoost для предсказания возрастной категории\n",
    "catboost_age = CatBoostClassifier(iterations=1000, verbose=150)\n",
    "catboost_age.fit(X_train, y_train['age_class'], eval_set=(X_val, y_val['age_class']))\n",
    "y_pred_age = catboost_age.predict(X_test)\n",
    "\n",
    "print(\"Classification report for age prediction:\")\n",
    "print(classification_report(y_test['age_class'], y_pred_age))"
   ]
  },
  {
   "cell_type": "code",
   "execution_count": 53,
   "metadata": {},
   "outputs": [
    {
     "name": "stdout",
     "output_type": "stream",
     "text": [
      "Learning rate set to 0.082934\n",
      "0:\tlearn: 9.0067197\ttest: 8.9377359\tbest: 8.9377359 (0)\ttotal: 10.6ms\tremaining: 15.9s\n",
      "150:\tlearn: 8.3829353\ttest: 8.3782496\tbest: 8.3782496 (150)\ttotal: 1.5s\tremaining: 13.4s\n",
      "300:\tlearn: 8.2593318\ttest: 8.2927831\tbest: 8.2927831 (300)\ttotal: 2.75s\tremaining: 11s\n",
      "450:\tlearn: 8.1840396\ttest: 8.2487730\tbest: 8.2487730 (450)\ttotal: 4.19s\tremaining: 9.74s\n",
      "600:\tlearn: 8.1275031\ttest: 8.2229122\tbest: 8.2229122 (600)\ttotal: 5.6s\tremaining: 8.38s\n",
      "750:\tlearn: 8.0806284\ttest: 8.2033142\tbest: 8.2033142 (750)\ttotal: 6.78s\tremaining: 6.76s\n",
      "900:\tlearn: 8.0403966\ttest: 8.1913850\tbest: 8.1913850 (900)\ttotal: 8.23s\tremaining: 5.47s\n",
      "1050:\tlearn: 8.0031721\ttest: 8.1795806\tbest: 8.1795806 (1050)\ttotal: 9.66s\tremaining: 4.13s\n",
      "1200:\tlearn: 7.9685141\ttest: 8.1697647\tbest: 8.1697647 (1200)\ttotal: 10.9s\tremaining: 2.71s\n",
      "1350:\tlearn: 7.9359805\ttest: 8.1609774\tbest: 8.1608994 (1349)\ttotal: 12.2s\tremaining: 1.35s\n",
      "1499:\tlearn: 7.9068165\ttest: 8.1540261\tbest: 8.1540261 (1499)\ttotal: 13.6s\tremaining: 0us\n",
      "\n",
      "bestTest = 8.154026146\n",
      "bestIteration = 1499\n",
      "\n",
      "Classification report for age prediction:\n",
      "              precision    recall  f1-score   support\n",
      "\n",
      "           0       0.00      0.00      0.00      1542\n",
      "           1       0.55      0.20      0.29     12396\n",
      "           2       0.39      0.85      0.53     13298\n",
      "           3       0.60      0.17      0.26      8767\n",
      "\n",
      "    accuracy                           0.42     36003\n",
      "   macro avg       0.38      0.30      0.27     36003\n",
      "weighted avg       0.48      0.42      0.36     36003\n",
      "\n"
     ]
    },
    {
     "name": "stderr",
     "output_type": "stream",
     "text": [
      "/home/kuzakov-dn/miniconda3/envs/other_env/lib/python3.12/site-packages/sklearn/metrics/_classification.py:1531: UndefinedMetricWarning: Precision is ill-defined and being set to 0.0 in labels with no predicted samples. Use `zero_division` parameter to control this behavior.\n",
      "  _warn_prf(average, modifier, f\"{metric.capitalize()} is\", len(result))\n",
      "/home/kuzakov-dn/miniconda3/envs/other_env/lib/python3.12/site-packages/sklearn/metrics/_classification.py:1531: UndefinedMetricWarning: Precision is ill-defined and being set to 0.0 in labels with no predicted samples. Use `zero_division` parameter to control this behavior.\n",
      "  _warn_prf(average, modifier, f\"{metric.capitalize()} is\", len(result))\n",
      "/home/kuzakov-dn/miniconda3/envs/other_env/lib/python3.12/site-packages/sklearn/metrics/_classification.py:1531: UndefinedMetricWarning: Precision is ill-defined and being set to 0.0 in labels with no predicted samples. Use `zero_division` parameter to control this behavior.\n",
      "  _warn_prf(average, modifier, f\"{metric.capitalize()} is\", len(result))\n"
     ]
    }
   ],
   "source": [
    "from catboost import CatBoostRegressor\n",
    "\n",
    "\n",
    "# CatBoost для предсказания возрастной категории\n",
    "catboost_age = CatBoostRegressor(iterations=1500, verbose=150, depth=3)\n",
    "catboost_age.fit(X_train, y_train['age'], eval_set=(X_val, y_val['age']))\n",
    "y_pred_age = catboost_age.predict(X_test)\n",
    "y_pred_age[(y_pred_age <= 20)] = 0\n",
    "y_pred_age[(20 < y_pred_age) & (y_pred_age <= 30)] = 1\n",
    "y_pred_age[(30 < y_pred_age) & (y_pred_age <= 40)] = 2\n",
    "y_pred_age[(40 < y_pred_age)] = 3\n",
    "\n",
    "print(\"Classification report for age prediction:\")\n",
    "print(classification_report(y_test['age_class'], y_pred_age))"
   ]
  }
 ],
 "metadata": {
  "kernelspec": {
   "display_name": "Python 3",
   "language": "python",
   "name": "python3"
  },
  "language_info": {
   "codemirror_mode": {
    "name": "ipython",
    "version": 3
   },
   "file_extension": ".py",
   "mimetype": "text/x-python",
   "name": "python",
   "nbconvert_exporter": "python",
   "pygments_lexer": "ipython3",
   "version": "3.12.5"
  }
 },
 "nbformat": 4,
 "nbformat_minor": 2
}
