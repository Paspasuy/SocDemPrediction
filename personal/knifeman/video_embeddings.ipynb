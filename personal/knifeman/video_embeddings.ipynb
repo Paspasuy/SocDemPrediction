{
 "cells": [
  {
   "cell_type": "code",
   "execution_count": 1,
   "metadata": {},
   "outputs": [],
   "source": [
    "import torch\n",
    "import os\n",
    "import torch.nn.functional as F\n",
    "from torch import Tensor\n",
    "import torch.nn as nn\n",
    "from transformers import AutoTokenizer, AutoModel, AutoModelForSequenceClassification\n",
    "import pandas as pd\n",
    "import seaborn as sns\n",
    "import numpy as np\n",
    "from tqdm import tqdm, trange\n",
    "import torch.optim as optim\n",
    "from torch.utils.data import DataLoader, TensorDataset, random_split\n",
    "import matplotlib.pyplot as plt\n",
    "from sklearn.decomposition import PCA\n",
    "import re\n",
    "from sklearn.feature_extraction.text import TfidfVectorizer\n",
    "import pymystem3\n",
    "tqdm.pandas()\n",
    "import nltk\n",
    "from nltk.corpus import stopwords\n",
    "from sklearn.model_selection import train_test_split\n",
    "from torch.utils.data import DataLoader, TensorDataset\n",
    "from sklearn.metrics import f1_score\n",
    "from catboost import CatBoostClassifier\n",
    "from sklearn.linear_model import LogisticRegression, LinearRegression\n",
    "from sklearn.metrics import accuracy_score, classification_report\n",
    "import scipy\n",
    "from transformers import AdamW\n",
    "from transformers import BertTokenizer, BertForSequenceClassification\n",
    "from torch.utils.data import Dataset, DataLoader"
   ]
  },
  {
   "cell_type": "code",
   "execution_count": 32,
   "metadata": {},
   "outputs": [],
   "source": [
    "path = \"../../data/\"\n",
    "data = pd.read_csv(path + 'train_events.csv')\n",
    "video = pd.read_csv(path + 'video_info_v2.csv')\n",
    "targets = pd.read_csv(path + 'train_targets.csv')"
   ]
  },
  {
   "cell_type": "markdown",
   "metadata": {},
   "source": [
    "# Big model embeds\n",
    "\n",
    "Тут были эксперименты с эмбеддингами"
   ]
  },
  {
   "cell_type": "code",
   "execution_count": 3,
   "metadata": {},
   "outputs": [
    {
     "data": {
      "application/vnd.jupyter.widget-view+json": {
       "model_id": "0a00e29b2ac84d86bd446d3c8dc232b6",
       "version_major": 2,
       "version_minor": 0
      },
      "text/plain": [
       "Loading checkpoint shards:   0%|          | 0/2 [00:00<?, ?it/s]"
      ]
     },
     "metadata": {},
     "output_type": "display_data"
    },
    {
     "name": "stdout",
     "output_type": "stream",
     "text": [
      "[3, 1, 2]\n"
     ]
    }
   ],
   "source": [
    "os.environ[\"CUDA_DEVICE_ORDER\"]=\"PCI_BUS_ID\"\n",
    "\n",
    "def last_token_pool(last_hidden_states: Tensor,\n",
    "                 attention_mask: Tensor) -> Tensor:\n",
    "    left_padding = (attention_mask[:, -1].sum() == attention_mask.shape[0])\n",
    "    if left_padding:\n",
    "        return last_hidden_states[:, -1]\n",
    "    else:\n",
    "        sequence_lengths = attention_mask.sum(dim=1) - 1\n",
    "        batch_size = last_hidden_states.shape[0]\n",
    "        return last_hidden_states[torch.arange(batch_size, device=last_hidden_states.device), sequence_lengths]\n",
    "\n",
    "def get_detailed_instruct(task_description: str, query: str) -> str:\n",
    "    return f'Instruct: {task_description}\\nQuery: {query}'\n",
    "\n",
    "# tokenizer = AutoTokenizer.from_pretrained('intfloat/multilingual-e5-large-instruct')\n",
    "# model = AutoModel.from_pretrained('intfloat/multilingual-e5-large-instruct')\n",
    "tokenizer = AutoTokenizer.from_pretrained('Alibaba-NLP/gte-Qwen2-1.5B-instruct')\n",
    "model = AutoModel.from_pretrained('Alibaba-NLP/gte-Qwen2-1.5B-instruct')\n",
    "\n",
    "device_ids = [3, 1, 2]\n",
    "model = nn.DataParallel(model, device_ids=device_ids)\n",
    "n_gpu = len(device_ids)\n",
    "\n",
    "model.to(f\"cuda:{device_ids[0]}\")\n",
    "print(model.device_ids)\n",
    "\n",
    "\n",
    "max_length = 128\n",
    "def tokenize(texts):\n",
    "    tensors = tokenizer(texts, max_length=max_length, padding=True, truncation=True, return_tensors=\"pt\")\n",
    "    return {k : v for k, v in tensors.items()}\n",
    "\n",
    "def embed(texts):\n",
    "    with torch.no_grad():\n",
    "        t = tokenize(texts)\n",
    "        \n",
    "        last_state = model(**t).last_hidden_state\n",
    "        return last_token_pool(last_state, t[\"attention_mask\"])\n",
    "\n",
    "def embed_batched(texts, bs=128):\n",
    "    n = len(texts)\n",
    "    res = []\n",
    "    for i in trange(0, n, bs):\n",
    "        res.append(embed(texts[i:i+bs]))\n",
    "    return list(torch.cat(res).cpu().numpy().squeeze())"
   ]
  },
  {
   "cell_type": "code",
   "execution_count": 4,
   "metadata": {},
   "outputs": [],
   "source": [
    "video['text'] = video.apply(lambda x: 'Название видео: \"' + x['title'] + '\"; Категория видео: ' + x['category'], axis=1)\n",
    "video['query'] = video['text'].apply(lambda x: get_detailed_instruct(\"Определи средний возраст целевой аудитории данного видео\", x))\n",
    "embeds_large = embed_batched(list(video['query']))"
   ]
  },
  {
   "cell_type": "code",
   "execution_count": 40,
   "metadata": {},
   "outputs": [],
   "source": [
    "def reduce_dimensionality(data, target_dimension=32):\n",
    "    \"\"\"\n",
    "    Уменьшает размерность данных с d до target_dimension с помощью PCA.\n",
    "\n",
    "    Args:\n",
    "        data (numpy.ndarray): Исходные данные размерности (n_samples, d).\n",
    "        target_dimension (int): Желаемая размерность выходных данных. По умолчанию 32.\n",
    "\n",
    "    Returns:\n",
    "        numpy.ndarray: Данные размерности (n_samples, target_dimension).\n",
    "    \"\"\"\n",
    "    # Инициализируем PCA с целевой размерностью\n",
    "    pca = PCA(n_components=target_dimension)\n",
    "    \n",
    "    # Применяем PCA к данным\n",
    "    reduced_data = pca.fit_transform(data)\n",
    "    \n",
    "    return reduced_data\n",
    "\n",
    "embeds_64_weak = reduce_dimensionality(embeds_large, target_dimension=64)"
   ]
  },
  {
   "cell_type": "markdown",
   "metadata": {},
   "source": [
    "## autoencoder\n",
    "\n",
    "Пробовали сжимать эмбеддинги не только с помощью k-means, но и с помощью автоэнкодеров. Получилось хуже, чем с исходными эмбеддингами"
   ]
  },
  {
   "cell_type": "code",
   "execution_count": null,
   "metadata": {},
   "outputs": [],
   "source": [
    "device = torch.device(\"cuda\" if torch.cuda.is_available() else \"cpu\")\n",
    "print(f'Using device: {device}')\n",
    "\n",
    "class Autoencoder(nn.Module):\n",
    "    def __init__(self):\n",
    "        super(Autoencoder, self).__init__()\n",
    "        self.encoder = nn.Sequential(\n",
    "            nn.Linear(1536, 64),\n",
    "            nn.Sigmoid()\n",
    "        )\n",
    "        self.decoder = nn.Sequential(\n",
    "            nn.Linear(64, 1536),\n",
    "        )\n",
    "\n",
    "    def forward(self, x):\n",
    "        x = self.encoder(x)\n",
    "        x = self.decoder(x)\n",
    "        return x\n",
    "\n",
    "\n",
    "data = torch.tensor(np.array(embeds_large))\n",
    "\n",
    "# Создание DataLoader'ов для тренировки и валидации\n",
    "dataset = TensorDataset(data, data)\n",
    "train_size = int(0.8 * len(dataset))\n",
    "val_size = len(dataset) - train_size\n",
    "train_dataset, val_dataset = random_split(dataset, [train_size, val_size])\n",
    "\n",
    "train_loader = DataLoader(train_dataset, batch_size=32, shuffle=True)\n",
    "val_loader = DataLoader(val_dataset, batch_size=32, shuffle=True)\n",
    "\n",
    "# Инициализация модели, функции потерь и оптимизатора\n",
    "model = Autoencoder().to(device)\n",
    "criterion = nn.MSELoss()\n",
    "optimizer = optim.Adam(model.parameters(), lr=1e-3)\n",
    "\n",
    "# Функция тренировки модели\n",
    "def train_epoch(model, train_loader, criterion, optimizer):\n",
    "    model.train()\n",
    "    train_loss = 0\n",
    "    for data in tqdm(train_loader):\n",
    "        inputs, _ = data\n",
    "        inputs = inputs.to(device)\n",
    "        optimizer.zero_grad()\n",
    "        outputs = model(inputs)\n",
    "        loss = criterion(outputs, inputs)\n",
    "        loss.backward()\n",
    "        optimizer.step()\n",
    "        train_loss += loss.item()\n",
    "    return train_loss / len(train_loader)\n",
    "\n",
    "# Функция валидации модели\n",
    "def validate_epoch(model, val_loader, criterion):\n",
    "    model.eval()\n",
    "    val_loss = 0\n",
    "    with torch.no_grad():\n",
    "        for data in tqdm(val_loader):\n",
    "            inputs, _ = data\n",
    "            inputs = inputs.to(device)\n",
    "            outputs = model(inputs)\n",
    "            loss = criterion(outputs, inputs)\n",
    "            val_loss += loss.item()\n",
    "    return val_loss / len(val_loader)\n",
    "\n",
    "\n",
    "num_epochs = 8\n",
    "train_losses = []\n",
    "val_losses = []\n",
    "\n",
    "for epoch in range(num_epochs):\n",
    "    train_loss = train_epoch(model, train_loader, criterion, optimizer)\n",
    "    val_loss = validate_epoch(model, val_loader, criterion)\n",
    "    \n",
    "    train_losses.append(train_loss)\n",
    "    val_losses.append(val_loss)\n",
    "    \n",
    "    print(f'Epoch {epoch+1}, Train Loss: {train_loss:.4f}, Val Loss: {val_loss:.4f}')\n",
    "\n",
    "# Построение графика ошибок\n",
    "plt.figure(figsize=(10, 5))\n",
    "plt.plot(train_losses, label='Train Loss')\n",
    "plt.plot(val_losses, label='Validation Loss')\n",
    "plt.xlabel('Epochs')\n",
    "plt.ylabel('Loss')\n",
    "plt.legend()\n",
    "plt.show()"
   ]
  },
  {
   "cell_type": "code",
   "execution_count": 20,
   "metadata": {},
   "outputs": [],
   "source": [
    "data = torch.tensor(np.array(embeds_large))"
   ]
  },
  {
   "cell_type": "code",
   "execution_count": 22,
   "metadata": {},
   "outputs": [
    {
     "name": "stderr",
     "output_type": "stream",
     "text": [
      "100%|██████████| 481480/481480 [01:45<00:00, 4574.90it/s]\n"
     ]
    }
   ],
   "source": [
    "outputs = []\n",
    "with torch.no_grad():\n",
    "    model.eval()\n",
    "    for input in tqdm(data):\n",
    "        input = input.to(device)\n",
    "        output = model.encoder(input)\n",
    "        outputs.append(output.cpu().numpy())"
   ]
  },
  {
   "cell_type": "code",
   "execution_count": 30,
   "metadata": {},
   "outputs": [],
   "source": [
    "embeds_64 = np.load('data/embeds_large_64_v1.npy')"
   ]
  },
  {
   "cell_type": "markdown",
   "metadata": {},
   "source": [
    "# Normalize"
   ]
  },
  {
   "cell_type": "code",
   "execution_count": 33,
   "metadata": {},
   "outputs": [],
   "source": [
    "video['text'] = video.apply(lambda x: x['title'] + f' Категория: {x['category']}', axis=1)\n",
    "video['duration_sec'] = video['duration'] // 1000\n",
    "#video['embeds'] = list(embeds)\n",
    "video['embeds_64'] = list(embeds_64)\n",
    "targets['sex'] = targets['sex'].apply(lambda x: 0 if x == 'male' else 1)\n",
    "data = data.merge(video, on='rutube_video_id', how='inner')\n",
    "data = data.merge(targets, on='viewer_uid', how='inner')\n",
    "data['count'] = data.groupby('viewer_uid')['viewer_uid'].transform('count')\n",
    "data['part_wached'] = data['total_watchtime'] / data['duration_sec']\n",
    "data = data.sort_values(by='event_timestamp')"
   ]
  },
  {
   "cell_type": "markdown",
   "metadata": {},
   "source": [
    "# TF-IDF\n",
    "\n",
    "Извлекали слова различной частотности из текста. В итоге в окончательное решение пошли популярные слова"
   ]
  },
  {
   "cell_type": "code",
   "execution_count": 5,
   "metadata": {},
   "outputs": [
    {
     "name": "stderr",
     "output_type": "stream",
     "text": [
      "[nltk_data] Downloading package stopwords to /home/kuzakov-\n",
      "[nltk_data]     dn/nltk_data...\n",
      "[nltk_data]   Package stopwords is already up-to-date!\n",
      "100%|██████████| 1759616/1759616 [07:26<00:00, 3940.89it/s]\n"
     ]
    }
   ],
   "source": [
    "nltk.download('stopwords')\n",
    "russian_stopwords = stopwords.words('russian')\n",
    "stemmer = pymystem3.Mystem()\n",
    "\n",
    "\n",
    "def preprocess_text(text):\n",
    "    # Приведение к нижнему регистру\n",
    "    text = text.lower()\n",
    "    # Удаление ненужных символов\n",
    "    text = re.sub(r'[^a-zа-яё0-9\\s]', '', text)\n",
    "    text = ''.join(stemmer.lemmatize(text))\n",
    "    return text\n",
    "\n",
    "\n",
    "data['cleaned_text'] = data['text'].progress_apply(preprocess_text)"
   ]
  },
  {
   "cell_type": "code",
   "execution_count": 6,
   "metadata": {},
   "outputs": [],
   "source": [
    "# Создание tf-idf векторов\n",
    "tfidf_vectorizer = TfidfVectorizer(stop_words=russian_stopwords, min_df=0.001, max_df=0.1)\n",
    "tfidf_matrix = tfidf_vectorizer.fit_transform(data['cleaned_text'])\n",
    "data['tf_idf_embeds'] = list(tfidf_matrix)"
   ]
  },
  {
   "cell_type": "code",
   "execution_count": null,
   "metadata": {},
   "outputs": [],
   "source": [
    "tfidf_vectorizer.get_feature_names_out()"
   ]
  },
  {
   "cell_type": "markdown",
   "metadata": {},
   "source": [
    "# Sum embeds\n",
    "\n",
    "Суммировали эмбеддинги по всем видосам с коэффициентами, пропорциональными длительности просмотра видео"
   ]
  },
  {
   "cell_type": "code",
   "execution_count": 35,
   "metadata": {},
   "outputs": [
    {
     "name": "stdout",
     "output_type": "stream",
     "text": [
      "embeds\n"
     ]
    },
    {
     "name": "stderr",
     "output_type": "stream",
     "text": [
      "/var/tmp/ipykernel_5414/1450419632.py:18: DeprecationWarning: DataFrameGroupBy.apply operated on the grouping columns. This behavior is deprecated, and in a future version of pandas the grouping columns will be excluded from the operation. Either pass `include_groups=False` to exclude the groupings or explicitly select the grouping columns after groupby to silence this warning.\n",
      "  users_embeds = data.groupby('viewer_uid').apply(custom_aggregation)\n"
     ]
    },
    {
     "name": "stdout",
     "output_type": "stream",
     "text": [
      "embeds_all\n"
     ]
    },
    {
     "name": "stderr",
     "output_type": "stream",
     "text": [
      "/var/tmp/ipykernel_5414/1450419632.py:20: DeprecationWarning: DataFrameGroupBy.apply operated on the grouping columns. This behavior is deprecated, and in a future version of pandas the grouping columns will be excluded from the operation. Either pass `include_groups=False` to exclude the groupings or explicitly select the grouping columns after groupby to silence this warning.\n",
      "  users_embeds_all = data.groupby('viewer_uid').apply(no_aggregation)\n"
     ]
    }
   ],
   "source": [
    "# Усредняем с коэффициентами\n",
    "def custom_aggregation(df):\n",
    "    coeffs = np.array(df['part_wached'])\n",
    "    coeffs /= np.linalg.norm(coeffs)\n",
    "    return np.sum([coef * vec for vec, coef in zip(df['embeds_64'], coeffs)], axis=0)\n",
    "\n",
    "def custom_aggregation_tf_idf(df):\n",
    "    coeffs = np.array(df['part_wached'])\n",
    "    coeffs /= np.linalg.norm(coeffs)\n",
    "    return np.sum([coef * vec for vec, coef in zip(df['tf_idf_embeds'], coeffs)], axis=0)\n",
    "\n",
    "def no_aggregation(df):\n",
    "    return np.array(df['embeds_64'])\n",
    "\n",
    "# print('tf_idf')\n",
    "# users_embeds_tf_idf = data.groupby('viewer_uid').apply(custom_aggregation_tf_idf)\n",
    "print('embeds')\n",
    "users_embeds = data.groupby('viewer_uid').apply(custom_aggregation)\n",
    "print('embeds_all')\n",
    "users_embeds_all = data.groupby('viewer_uid').apply(no_aggregation)\n",
    "\n",
    "users_embeds.name = 'embeds_64'\n",
    "users_embeds_all.name = 'embeds_all'\n",
    "#users_embeds_tf_idf.name = 'embed_tf_idf'\n",
    "\n",
    "targets = pd.merge(users_embeds, targets, on='viewer_uid', how='inner')\n",
    "targets = pd.merge(users_embeds_all, targets, on='viewer_uid', how='inner')\n",
    "#targets = pd.merge(users_embeds_tf_idf, targets, on='viewer_uid', how='inner')"
   ]
  },
  {
   "cell_type": "markdown",
   "metadata": {},
   "source": [
    "# Models"
   ]
  },
  {
   "cell_type": "markdown",
   "metadata": {},
   "source": [
    "## BERT\n",
    "\n",
    "Пробовали обучить берт на склеенных названиях видео, но не особо вышло"
   ]
  },
  {
   "cell_type": "code",
   "execution_count": 114,
   "metadata": {},
   "outputs": [],
   "source": [
    "train_ids, test_ids = train_test_split(targets['viewer_uid'], test_size=0.5, random_state=42)\n",
    "test_ids = test_ids.sample(10000)\n",
    "\n",
    "X_train = data[data.viewer_uid.isin(train_ids)]\n",
    "X_train = X_train.groupby('viewer_uid').agg(\n",
    "    texts=('text', lambda x: '; '.join(x))\n",
    ").reset_index().sort_values(by='viewer_uid')['texts']\n",
    "y_train = data[data.viewer_uid.isin(train_ids)].drop_duplicates(subset='viewer_uid').sort_values(by='viewer_uid')['age_class']\n",
    "X_test = data[data.viewer_uid.isin(test_ids)]\n",
    "X_test = X_test.groupby('viewer_uid').agg(\n",
    "    texts=('text', lambda x: '; '.join(x))\n",
    ").reset_index().sort_values(by='viewer_uid')['texts']\n",
    "y_test = data[data.viewer_uid.isin(test_ids)].drop_duplicates(subset='viewer_uid').sort_values(by='viewer_uid')['age_class']"
   ]
  },
  {
   "cell_type": "code",
   "execution_count": null,
   "metadata": {},
   "outputs": [],
   "source": [
    "model_name = \"bert-base-multilingual-cased\"\n",
    "tokenizer = BertTokenizer.from_pretrained(model_name)\n",
    "model = BertForSequenceClassification.from_pretrained(model_name, num_labels=4)\n",
    "\n",
    "def tokenize_function(text):\n",
    "    return tokenizer(text, padding=\"max_length\", truncation=True, max_length=400)\n",
    "\n",
    "X_train_tokenised = [tokenize_function(text) for text in X_train]\n",
    "X_test_tokenised = [tokenize_function(text) for text in X_test]\n",
    "\n",
    "# Создание класса Dataset\n",
    "class TextDataset(Dataset):\n",
    "    def __init__(self, tokenized_texts, labels):\n",
    "        self.encodings = tokenized_texts\n",
    "        self.labels = labels.to_numpy()\n",
    "\n",
    "    def __getitem__(self, idx):\n",
    "        encoding = {key: torch.tensor(val[idx]) for key, val in self.encodings.items()}\n",
    "        item = {**encoding, 'labels': torch.tensor(self.labels[idx])}\n",
    "        return item\n",
    "\n",
    "    def __len__(self):\n",
    "        return len(self.labels)\n",
    "\n",
    "# Создание датасетов\n",
    "train_encodings = {key: [d[key] for d in X_train_tokenised] for key in X_train_tokenised[0]}\n",
    "test_encodings = {key: [d[key] for d in X_test_tokenised] for key in X_test_tokenised[0]}\n",
    "\n",
    "train_dataset = TextDataset(train_encodings, y_train)\n",
    "test_dataset = TextDataset(test_encodings, y_test)\n",
    "\n",
    "# Создание DataLoader\n",
    "train_loader = DataLoader(train_dataset, batch_size=32, shuffle=True)\n",
    "test_loader = DataLoader(test_dataset, batch_size=32, shuffle=False)\n",
    "\n",
    "device = 'cuda:3' if torch.cuda.is_available() else 'cpu'\n",
    "model.to(device)\n",
    "model.train()\n",
    "\n",
    "optimizer = AdamW(model.parameters(), lr=2e-5)\n",
    "\n",
    "for epoch in range(3):  # Например, 3 эпохи\n",
    "    for batch in tqdm(train_loader):\n",
    "        batch = {k: v.to(device) for k, v in batch.items()}\n",
    "        outputs = model(**batch)\n",
    "        loss = outputs.loss\n",
    "        loss.backward()\n",
    "        optimizer.step()\n",
    "        optimizer.zero_grad()\n",
    "    print(f\"Epoch {epoch} loss: {loss.item()}\")\n",
    "\n",
    "    # Оценка модели\n",
    "    model.eval()\n",
    "    correct = 0\n",
    "    total = 0\n",
    "\n",
    "    y_true = []\n",
    "    y_pred = []\n",
    "    with torch.no_grad():\n",
    "        for batch in tqdm(test_loader):\n",
    "            batch = {k: v.to(device) for k, v in batch.items()}\n",
    "            outputs = model(**batch)\n",
    "            _, predicted = torch.max(outputs.logits, 1)\n",
    "            total += batch['labels'].size(0)\n",
    "            correct += (predicted == batch['labels']).sum().item()\n",
    "            y_pred.extend(predicted.cpu().numpy())\n",
    "            y_true.extend(batch['labels'].cpu().numpy())\n",
    "\n",
    "    print(f'Accuracy: {100 * correct / total}%')\n",
    "    print(f'F1: {100 * f1_score(y_true, y_pred, average='weighted')}%')"
   ]
  },
  {
   "cell_type": "code",
   "execution_count": 117,
   "metadata": {},
   "outputs": [
    {
     "name": "stderr",
     "output_type": "stream",
     "text": [
      "100%|██████████| 313/313 [00:52<00:00,  5.97it/s]"
     ]
    },
    {
     "name": "stdout",
     "output_type": "stream",
     "text": [
      "Accuracy: 46.68%\n",
      "F1: 44.88394455065781%\n"
     ]
    },
    {
     "name": "stderr",
     "output_type": "stream",
     "text": [
      "\n"
     ]
    }
   ],
   "source": [
    "y_true = []\n",
    "y_pred = []\n",
    "with torch.no_grad():\n",
    "    for batch in tqdm(test_loader):\n",
    "        batch = {k: v.to(device) for k, v in batch.items()}\n",
    "        outputs = model(**batch)\n",
    "        _, predicted = torch.max(outputs.logits, 1)\n",
    "        total += batch['labels'].size(0)\n",
    "        correct += (predicted == batch['labels']).sum().item()\n",
    "        y_pred.extend(predicted.cpu().numpy())\n",
    "        y_true.extend(batch['labels'].cpu().numpy())\n",
    "\n",
    "print(f'Accuracy: {100 * correct / total}%')\n",
    "print(f'F1: {100 * f1_score(y_true, y_pred, average='weighted')}%')"
   ]
  },
  {
   "cell_type": "markdown",
   "metadata": {},
   "source": [
    "# simple nets"
   ]
  },
  {
   "cell_type": "markdown",
   "metadata": {},
   "source": [
    "## Reverse подход: по 1 видео предсказание возраста, а затем усреднение\n",
    "\n",
    "Идея: предсказываем по эмбеддингу видео таргет, а потом берём моду или усредняем таргеты. Идея не сработала"
   ]
  },
  {
   "cell_type": "code",
   "execution_count": null,
   "metadata": {},
   "outputs": [],
   "source": [
    "train_ids, test_ids = train_test_split(targets['viewer_uid'], test_size=0.3, random_state=42)\n",
    "\n",
    "X_train = np.stack(data[data.viewer_uid.isin(train_ids)]['embeds_32'])\n",
    "#X_train = np.squeeze(np.stack([i.toarray() for i in X_train]))\n",
    "y_train = data[data.viewer_uid.isin(train_ids)]['age_class']\n",
    "X_test = np.stack(data[data.viewer_uid.isin(test_ids)]['embeds_32'])\n",
    "#X_test = np.squeeze(np.stack([i.toarray() for i in X_test]))\n",
    "y_test = data[data.viewer_uid.isin(test_ids)]['age_class']"
   ]
  },
  {
   "cell_type": "code",
   "execution_count": 102,
   "metadata": {},
   "outputs": [],
   "source": [
    "log_reg_age = LogisticRegression(max_iter=1000)\n",
    "log_reg_age.fit(X_train, y_train)\n",
    "y_pred_age = log_reg_age.predict(X_test)"
   ]
  },
  {
   "cell_type": "code",
   "execution_count": 103,
   "metadata": {},
   "outputs": [
    {
     "name": "stdout",
     "output_type": "stream",
     "text": [
      "Classification report for age prediction:\n"
     ]
    },
    {
     "name": "stderr",
     "output_type": "stream",
     "text": [
      "/home/kuzakov-dn/miniconda3/envs/other_env/lib/python3.12/site-packages/sklearn/metrics/_classification.py:1531: UndefinedMetricWarning: Precision is ill-defined and being set to 0.0 in labels with no predicted samples. Use `zero_division` parameter to control this behavior.\n",
      "  _warn_prf(average, modifier, f\"{metric.capitalize()} is\", len(result))\n"
     ]
    },
    {
     "name": "stdout",
     "output_type": "stream",
     "text": [
      "              precision    recall  f1-score   support\n",
      "\n",
      "           0       0.00      0.00      0.00     20263\n",
      "           1       0.44      0.52      0.47    195035\n",
      "           2       0.40      0.52      0.45    202920\n",
      "           3       0.47      0.16      0.24    109220\n",
      "\n",
      "    accuracy                           0.42    527438\n",
      "   macro avg       0.33      0.30      0.29    527438\n",
      "weighted avg       0.41      0.42      0.40    527438\n",
      "\n"
     ]
    },
    {
     "name": "stderr",
     "output_type": "stream",
     "text": [
      "/home/kuzakov-dn/miniconda3/envs/other_env/lib/python3.12/site-packages/sklearn/metrics/_classification.py:1531: UndefinedMetricWarning: Precision is ill-defined and being set to 0.0 in labels with no predicted samples. Use `zero_division` parameter to control this behavior.\n",
      "  _warn_prf(average, modifier, f\"{metric.capitalize()} is\", len(result))\n",
      "/home/kuzakov-dn/miniconda3/envs/other_env/lib/python3.12/site-packages/sklearn/metrics/_classification.py:1531: UndefinedMetricWarning: Precision is ill-defined and being set to 0.0 in labels with no predicted samples. Use `zero_division` parameter to control this behavior.\n",
      "  _warn_prf(average, modifier, f\"{metric.capitalize()} is\", len(result))\n"
     ]
    }
   ],
   "source": [
    "print(\"Classification report for age prediction:\")\n",
    "print(classification_report(y_test, y_pred_age))"
   ]
  },
  {
   "cell_type": "code",
   "execution_count": null,
   "metadata": {},
   "outputs": [],
   "source": [
    "data_predict = data[data['viewer_uid'].isin(test_ids)]\n",
    "data_predict['preds_one'] = log_reg_age.predict(np.stack(data_predict['embeds_32']))\n",
    "preds_all = data_predict.groupby('viewer_uid').agg(\n",
    "    preds_all=('preds_one', lambda x: x.value_counts().idxmax())\n",
    ")\n",
    "preds_all = preds_all.merge(targets[['viewer_uid', 'age_class']], on='viewer_uid')"
   ]
  },
  {
   "cell_type": "code",
   "execution_count": 110,
   "metadata": {},
   "outputs": [
    {
     "name": "stdout",
     "output_type": "stream",
     "text": [
      "Classification report for age prediction:\n",
      "              precision    recall  f1-score   support\n",
      "\n",
      "           0       0.00      0.00      0.00      2280\n",
      "           1       0.43      0.44      0.44     18967\n",
      "           2       0.39      0.58      0.46     19692\n",
      "           3       0.47      0.19      0.27     13065\n",
      "\n",
      "    accuracy                           0.41     54004\n",
      "   macro avg       0.32      0.30      0.29     54004\n",
      "weighted avg       0.41      0.41      0.39     54004\n",
      "\n"
     ]
    },
    {
     "name": "stderr",
     "output_type": "stream",
     "text": [
      "/home/kuzakov-dn/miniconda3/envs/other_env/lib/python3.12/site-packages/sklearn/metrics/_classification.py:1531: UndefinedMetricWarning: Precision is ill-defined and being set to 0.0 in labels with no predicted samples. Use `zero_division` parameter to control this behavior.\n",
      "  _warn_prf(average, modifier, f\"{metric.capitalize()} is\", len(result))\n",
      "/home/kuzakov-dn/miniconda3/envs/other_env/lib/python3.12/site-packages/sklearn/metrics/_classification.py:1531: UndefinedMetricWarning: Precision is ill-defined and being set to 0.0 in labels with no predicted samples. Use `zero_division` parameter to control this behavior.\n",
      "  _warn_prf(average, modifier, f\"{metric.capitalize()} is\", len(result))\n",
      "/home/kuzakov-dn/miniconda3/envs/other_env/lib/python3.12/site-packages/sklearn/metrics/_classification.py:1531: UndefinedMetricWarning: Precision is ill-defined and being set to 0.0 in labels with no predicted samples. Use `zero_division` parameter to control this behavior.\n",
      "  _warn_prf(average, modifier, f\"{metric.capitalize()} is\", len(result))\n"
     ]
    }
   ],
   "source": [
    "print(\"Classification report for age prediction:\")\n",
    "print(classification_report(preds_all['age_class'], preds_all['preds_all']))"
   ]
  },
  {
   "cell_type": "markdown",
   "metadata": {},
   "source": [
    "## linear\n",
    "\n",
    "Просто линейные модели по эмбеддингам пользователей"
   ]
  },
  {
   "cell_type": "code",
   "execution_count": 38,
   "metadata": {},
   "outputs": [],
   "source": [
    "# Создание признаков и целевых переменных\n",
    "#X = np.concatenate((np.squeeze(np.stack([i.toarray() for i in targets['embed_tf_idf']])), np.stack(targets['embed'])), axis=1)\n",
    "X = np.squeeze(np.stack(targets['embeds_64']))\n",
    "y = targets[['viewer_uid', 'sex', 'age_class', 'age']]\n",
    "\n",
    "# Разделение на тренировочную и тестовую выборки\n",
    "X_train, X_test, y_train, y_test = train_test_split(X, y, test_size=0.4, random_state=42)"
   ]
  },
  {
   "cell_type": "code",
   "execution_count": 39,
   "metadata": {},
   "outputs": [
    {
     "name": "stdout",
     "output_type": "stream",
     "text": [
      "Classification report for gender prediction:\n",
      "              precision    recall  f1-score   support\n",
      "\n",
      "           0       0.71      0.78      0.74     35900\n",
      "           1       0.76      0.69      0.72     36105\n",
      "\n",
      "    accuracy                           0.73     72005\n",
      "   macro avg       0.74      0.73      0.73     72005\n",
      "weighted avg       0.74      0.73      0.73     72005\n",
      "\n",
      "Classification report for age prediction:\n",
      "              precision    recall  f1-score   support\n",
      "\n",
      "           0       0.42      0.00      0.01      2992\n",
      "           1       0.43      0.63      0.51     25032\n",
      "           2       0.41      0.38      0.39     26458\n",
      "           3       0.47      0.29      0.36     17523\n",
      "\n",
      "    accuracy                           0.43     72005\n",
      "   macro avg       0.43      0.33      0.32     72005\n",
      "weighted avg       0.43      0.43      0.41     72005\n",
      "\n"
     ]
    }
   ],
   "source": [
    "# Логистическая регрессия для предсказания пола\n",
    "log_reg_gender = LogisticRegression(max_iter=1000)\n",
    "log_reg_gender.fit(X_train, y_train['sex'])\n",
    "y_pred_gender = log_reg_gender.predict(X_test)\n",
    "\n",
    "print(\"Classification report for gender prediction:\")\n",
    "print(classification_report(y_test['sex'], y_pred_gender))\n",
    "\n",
    "# Логистическая регрессия для предсказания возраста\n",
    "log_reg_age = LogisticRegression(max_iter=1000)\n",
    "log_reg_age.fit(X_train, y_train['age_class'])\n",
    "y_pred_age = log_reg_age.predict(X_test)\n",
    "\n",
    "print(\"Classification report for age prediction:\")\n",
    "print(classification_report(y_test['age_class'], y_pred_age))"
   ]
  },
  {
   "cell_type": "markdown",
   "metadata": {},
   "source": [
    "# catboost"
   ]
  },
  {
   "cell_type": "code",
   "execution_count": 41,
   "metadata": {},
   "outputs": [],
   "source": [
    "X_val, X_test, y_val, y_test = train_test_split(X_test, y_test, test_size=0.5, random_state=42)"
   ]
  },
  {
   "cell_type": "code",
   "execution_count": null,
   "metadata": {},
   "outputs": [],
   "source": [
    "# CatBoost для предсказания пола\n",
    "catboost_gender = CatBoostClassifier(iterations=1000, verbose=150)\n",
    "catboost_gender.fit(X_train, y_train['sex'], eval_set=(X_val, y_val['sex']))\n",
    "y_pred_gender = catboost_gender.predict(X_test)\n",
    "\n",
    "print(\"Classification report for gender prediction:\")\n",
    "print(classification_report(y_test['sex'], y_pred_gender))\n",
    "\n",
    "# CatBoost для предсказания возрастной категории\n",
    "catboost_age = CatBoostClassifier(iterations=1000, verbose=150)\n",
    "catboost_age.fit(X_train, y_train['age_class'], eval_set=(X_val, y_val['age_class']))\n",
    "y_pred_age = catboost_age.predict(X_test)\n",
    "\n",
    "print(\"Classification report for age prediction:\")\n",
    "print(classification_report(y_test['age_class'], y_pred_age))"
   ]
  },
  {
   "cell_type": "markdown",
   "metadata": {},
   "source": [
    "# sequential\n",
    "\n",
    "Обучали нейронку с одним скрытым слоем. Показала себя лучше остальных методов"
   ]
  },
  {
   "cell_type": "markdown",
   "metadata": {},
   "source": [
    "## age"
   ]
  },
  {
   "cell_type": "code",
   "execution_count": 15,
   "metadata": {},
   "outputs": [
    {
     "name": "stdout",
     "output_type": "stream",
     "text": [
      "Epoch [1/10], Loss: 1.1852, Val F1: 0.4403\n",
      "Epoch [2/10], Loss: 1.1165, Val F1: 0.4482\n",
      "Epoch [3/10], Loss: 1.1069, Val F1: 0.4455\n",
      "Epoch [4/10], Loss: 1.1010, Val F1: 0.4492\n",
      "Epoch [5/10], Loss: 1.0961, Val F1: 0.4432\n",
      "Epoch [6/10], Loss: 1.0909, Val F1: 0.4517\n",
      "Epoch [7/10], Loss: 1.0862, Val F1: 0.4492\n",
      "Epoch [8/10], Loss: 1.0813, Val F1: 0.4508\n",
      "Epoch [9/10], Loss: 1.0764, Val F1: 0.4531\n",
      "Epoch [10/10], Loss: 1.0717, Val F1: 0.4537\n"
     ]
    },
    {
     "data": {
      "image/png": "[encoded data removed]",
      "text/plain": [
       "<Figure size 1200x500 with 2 Axes>"
      ]
     },
     "metadata": {},
     "output_type": "display_data"
    }
   ],
   "source": [
    "# Устройство (GPU если доступно)\n",
    "device = torch.device(\"cuda:3\" if torch.cuda.is_available() else \"cpu\")\n",
    "\n",
    "# Датасеты и их загрузчики\n",
    "train_dataset = TensorDataset(torch.tensor(X_train, dtype=torch.float32), torch.tensor(np.array(y_train['age_class']), dtype=torch.long))\n",
    "test_dataset = TensorDataset(torch.tensor(X_test, dtype=torch.float32), torch.tensor(np.array(y_test['age_class']), dtype=torch.long))\n",
    "\n",
    "train_loader = DataLoader(train_dataset, batch_size=1024, shuffle=True)\n",
    "test_loader = DataLoader(test_dataset, batch_size=1024, shuffle=False)\n",
    "\n",
    "# Определение модели\n",
    "class SimpleNN(nn.Module):\n",
    "    def __init__(self, input_size, hidden_size, num_classes):\n",
    "        super(SimpleNN, self).__init__()\n",
    "        self.fc1 = nn.Linear(input_size, hidden_size)\n",
    "        self.relu = nn.ReLU()\n",
    "        self.fc2 = nn.Linear(hidden_size, num_classes)\n",
    "    \n",
    "    def forward(self, x):\n",
    "        out = self.fc1(x)\n",
    "        out = self.relu(out)\n",
    "        out = self.fc2(out)\n",
    "        return out\n",
    "\n",
    "# Параметры модели\n",
    "input_size = X_train.shape[1]\n",
    "hidden_size = 250\n",
    "num_classes = 4\n",
    "num_epochs = 10\n",
    "learning_rate = 0.001\n",
    "\n",
    "model = SimpleNN(input_size, hidden_size, num_classes).to(device)\n",
    "\n",
    "# Определение критерия и оптимизатора\n",
    "criterion = nn.CrossEntropyLoss()\n",
    "optimizer = optim.Adam(model.parameters(), lr=learning_rate)\n",
    "\n",
    "train_losses = []\n",
    "val_f1_scores = []\n",
    "\n",
    "# Обучение модели\n",
    "for epoch in range(num_epochs):\n",
    "    model.train()\n",
    "    running_loss = 0.0\n",
    "    for inputs, labels in train_loader:\n",
    "        inputs, labels = inputs.to(device), labels.to(device)\n",
    "        \n",
    "        # Прямой проход\n",
    "        outputs = model(inputs)\n",
    "        loss = criterion(outputs, labels)\n",
    "        \n",
    "        # Обнуление градиентов\n",
    "        optimizer.zero_grad()\n",
    "        \n",
    "        # Обратный проход и оптимизация\n",
    "        loss.backward()\n",
    "        optimizer.step()\n",
    "        \n",
    "        running_loss += loss.item()\n",
    "    \n",
    "    train_losses.append(running_loss / len(train_loader))\n",
    "    \n",
    "    # Валидация модели\n",
    "    model.eval()\n",
    "    all_preds = []\n",
    "    all_labels = []\n",
    "    with torch.no_grad():\n",
    "        for inputs, labels in test_loader:\n",
    "            inputs, labels = inputs.to(device), labels.to(device)\n",
    "            outputs = model(inputs)\n",
    "            _, preds = torch.max(outputs, 1)\n",
    "            all_preds.extend(preds.cpu().numpy())\n",
    "            all_labels.extend(labels.cpu().numpy())\n",
    "    \n",
    "    val_f1 = f1_score(all_labels, all_preds, average='weighted')\n",
    "    val_f1_scores.append(val_f1)\n",
    "    \n",
    "    print(f\"Epoch [{epoch+1}/{num_epochs}], Loss: {running_loss/len(train_loader):.4f}, Val F1: {val_f1:.4f}\")\n",
    "\n",
    "# Построение графиков\n",
    "plt.figure(figsize=(12, 5))\n",
    "\n",
    "plt.subplot(1, 2, 1)\n",
    "plt.plot(train_losses, label='Training Loss')\n",
    "plt.xlabel('Epoch')\n",
    "plt.ylabel('Loss')\n",
    "plt.title('Training Loss')\n",
    "plt.legend()\n",
    "\n",
    "plt.subplot(1, 2, 2)\n",
    "plt.plot(val_f1_scores, label='Validation F1 Score', color='orange')\n",
    "plt.xlabel('Epoch')\n",
    "plt.ylabel('F1 Score')\n",
    "plt.title('Validation Weighted F1 Score')\n",
    "plt.legend()\n",
    "\n",
    "plt.show()"
   ]
  },
  {
   "cell_type": "markdown",
   "metadata": {},
   "source": [
    "## sex\n"
   ]
  },
  {
   "cell_type": "code",
   "execution_count": 14,
   "metadata": {},
   "outputs": [
    {
     "name": "stdout",
     "output_type": "stream",
     "text": [
      "Epoch [1/10], Loss: 3480.5214, Val accuracy: 0.7384\n",
      "Epoch [2/10], Loss: 3458.1756, Val accuracy: 0.7416\n",
      "Epoch [3/10], Loss: 3456.4972, Val accuracy: 0.7426\n",
      "Epoch [4/10], Loss: 3455.9031, Val accuracy: 0.7409\n",
      "Epoch [5/10], Loss: 3455.5394, Val accuracy: 0.7416\n",
      "Epoch [6/10], Loss: 3455.2175, Val accuracy: 0.7428\n",
      "Epoch [7/10], Loss: 3454.9251, Val accuracy: 0.7408\n",
      "Epoch [8/10], Loss: 3454.6948, Val accuracy: 0.7422\n",
      "Epoch [9/10], Loss: 3454.5268, Val accuracy: 0.7429\n",
      "Epoch [10/10], Loss: 3454.4412, Val accuracy: 0.7421\n"
     ]
    },
    {
     "data": {
      "image/png": "[encoded data removed]",
      "text/plain": [
       "<Figure size 1200x500 with 2 Axes>"
      ]
     },
     "metadata": {},
     "output_type": "display_data"
    }
   ],
   "source": [
    "# Устройство (GPU если доступно)\n",
    "device = torch.device(\"cuda:3\" if torch.cuda.is_available() else \"cpu\")\n",
    "\n",
    "# Датасеты и их загрузчики\n",
    "train_dataset = TensorDataset(torch.tensor(X_train, dtype=torch.float32), torch.tensor(np.array(y_train['sex']), dtype=torch.float))\n",
    "test_dataset = TensorDataset(torch.tensor(X_test, dtype=torch.float32), torch.tensor(np.array(y_test['sex']), dtype=torch.float))\n",
    "\n",
    "train_loader = DataLoader(train_dataset, batch_size=1024, shuffle=True)\n",
    "test_loader = DataLoader(test_dataset, batch_size=1024, shuffle=False)\n",
    "\n",
    "# Определение модели\n",
    "class SimpleNN(nn.Module):\n",
    "    def __init__(self, input_size, hidden_size):\n",
    "        super(SimpleNN, self).__init__()\n",
    "        self.fc1 = nn.Linear(input_size, hidden_size)\n",
    "        self.relu = nn.ReLU()\n",
    "        self.fc2 = nn.Linear(hidden_size, 1)\n",
    "    \n",
    "    def forward(self, x):\n",
    "        out = self.fc1(x)\n",
    "        out = self.relu(out)\n",
    "        out = self.fc2(out)\n",
    "        out = torch.sigmoid(out)\n",
    "        return out\n",
    "\n",
    "# Параметры модели\n",
    "input_size = X_train.shape[1]\n",
    "hidden_size = 250\n",
    "num_epochs = 10\n",
    "learning_rate = 0.001\n",
    "\n",
    "model = SimpleNN(input_size, hidden_size).to(device)\n",
    "\n",
    "# Определение критерия и оптимизатора\n",
    "criterion = nn.CrossEntropyLoss()\n",
    "optimizer = optim.Adam(model.parameters(), lr=learning_rate)\n",
    "\n",
    "train_losses = []\n",
    "val_f1_scores = []\n",
    "\n",
    "# Обучение модели\n",
    "for epoch in range(num_epochs):\n",
    "    model.train()\n",
    "    running_loss = 0.0\n",
    "    for inputs, labels in train_loader:\n",
    "        inputs, labels = inputs.to(device), labels.to(device)\n",
    "        \n",
    "        # Прямой проход\n",
    "        outputs = model(inputs).squeeze()\n",
    "        loss = criterion(outputs, labels)\n",
    "        \n",
    "        # Обнуление градиентов\n",
    "        optimizer.zero_grad()\n",
    "        \n",
    "        # Обратный проход и оптимизация\n",
    "        loss.backward()\n",
    "        optimizer.step()\n",
    "        \n",
    "        running_loss += loss.item()\n",
    "    \n",
    "    train_losses.append(running_loss / len(train_loader))\n",
    "    \n",
    "    # Валидация модели\n",
    "    model.eval()\n",
    "    all_preds = []\n",
    "    all_labels = []\n",
    "    with torch.no_grad():\n",
    "        for inputs, labels in test_loader:\n",
    "            inputs, labels = inputs.to(device), labels.to(device)\n",
    "            outputs = model(inputs).squeeze()\n",
    "            preds = (outputs > 0.5).float()\n",
    "            all_preds.extend(preds.cpu().numpy())\n",
    "            all_labels.extend(labels.cpu().numpy())\n",
    "    \n",
    "    val_f1 = accuracy_score(all_labels, all_preds)\n",
    "    val_f1_scores.append(val_f1)\n",
    "    \n",
    "    print(f\"Epoch [{epoch+1}/{num_epochs}], Loss: {running_loss/len(train_loader):.4f}, Val accuracy: {val_f1:.4f}\")\n",
    "\n",
    "# Построение графиков\n",
    "plt.figure(figsize=(12, 5))\n",
    "\n",
    "plt.subplot(1, 2, 1)\n",
    "plt.plot(train_losses, label='Training Loss')\n",
    "plt.xlabel('Epoch')\n",
    "plt.ylabel('Loss')\n",
    "plt.title('Training Loss')\n",
    "plt.legend()\n",
    "\n",
    "plt.subplot(1, 2, 2)\n",
    "plt.plot(val_f1_scores, label='Validation accuracy Score', color='orange')\n",
    "plt.xlabel('Epoch')\n",
    "plt.ylabel('Accuracy Score')\n",
    "plt.title('Validation Weighted accuracy Score')\n",
    "plt.legend()\n",
    "\n",
    "plt.show()"
   ]
  },
  {
   "cell_type": "markdown",
   "metadata": {},
   "source": [
    "# LSTM\n",
    "\n",
    "Тоже не до конца изученный вариант, но на первых порах ничего не дал"
   ]
  },
  {
   "cell_type": "code",
   "execution_count": 118,
   "metadata": {},
   "outputs": [],
   "source": [
    "target_length = 40\n",
    "embedding_dim = 64\n",
    "lens = []\n",
    "\n",
    "# Создадим функцию для обработки каждой последовательности\n",
    "def pad_or_trim_sequence(seq, target_length):\n",
    "    seq = np.stack(seq)\n",
    "    if seq.shape[0] > target_length:\n",
    "        lens.append(target_length)\n",
    "        return seq[:target_length]\n",
    "    else:\n",
    "        lens.append(seq.shape[0])\n",
    "        padding = np.zeros((target_length - seq.shape[0], embedding_dim))\n",
    "        return np.concatenate([seq, padding], axis=0)\n",
    "\n",
    "# Применим функцию к каждому элементу в колонке embeds_all\n",
    "targets['embeds_all_alligned'] = targets['embeds_all'].apply(lambda x: pad_or_trim_sequence(x, target_length))\n",
    "targets['embeds_all_lens'] = lens"
   ]
  },
  {
   "cell_type": "code",
   "execution_count": 122,
   "metadata": {},
   "outputs": [
    {
     "name": "stdout",
     "output_type": "stream",
     "text": [
      "Using device: cuda:3\n",
      "1 torch.Size([108007, 40, 64]) torch.Size([108007])\n",
      "2\n"
     ]
    },
    {
     "name": "stderr",
     "output_type": "stream",
     "text": [
      "100%|██████████| 1688/1688 [00:07<00:00, 236.11it/s]\n",
      "100%|██████████| 1126/1126 [00:02<00:00, 526.53it/s]\n"
     ]
    },
    {
     "name": "stdout",
     "output_type": "stream",
     "text": [
      "Accuracy on test data: 42.98%\n",
      "F1: 42.10171548242207%\n"
     ]
    },
    {
     "name": "stderr",
     "output_type": "stream",
     "text": [
      "100%|██████████| 1688/1688 [00:07<00:00, 239.25it/s]\n",
      "100%|██████████| 1126/1126 [00:02<00:00, 523.13it/s]\n"
     ]
    },
    {
     "name": "stdout",
     "output_type": "stream",
     "text": [
      "Accuracy on test data: 43.81%\n",
      "F1: 42.92014767996783%\n"
     ]
    },
    {
     "name": "stderr",
     "output_type": "stream",
     "text": [
      "100%|██████████| 1688/1688 [00:07<00:00, 237.37it/s]\n",
      "100%|██████████| 1126/1126 [00:02<00:00, 514.81it/s]\n"
     ]
    },
    {
     "name": "stdout",
     "output_type": "stream",
     "text": [
      "Accuracy on test data: 44.51%\n",
      "F1: 43.42378265439098%\n"
     ]
    },
    {
     "name": "stderr",
     "output_type": "stream",
     "text": [
      "100%|██████████| 1688/1688 [00:06<00:00, 249.37it/s]\n",
      "100%|██████████| 1126/1126 [00:02<00:00, 520.32it/s]\n"
     ]
    },
    {
     "name": "stdout",
     "output_type": "stream",
     "text": [
      "Accuracy on test data: 44.67%\n",
      "F1: 43.303525277544495%\n"
     ]
    },
    {
     "name": "stderr",
     "output_type": "stream",
     "text": [
      "100%|██████████| 1688/1688 [00:07<00:00, 239.67it/s]\n",
      "100%|██████████| 1126/1126 [00:02<00:00, 533.75it/s]\n"
     ]
    },
    {
     "name": "stdout",
     "output_type": "stream",
     "text": [
      "Accuracy on test data: 45.06%\n",
      "F1: 44.10973694153847%\n"
     ]
    },
    {
     "name": "stderr",
     "output_type": "stream",
     "text": [
      "100%|██████████| 1688/1688 [00:07<00:00, 238.20it/s]\n",
      "100%|██████████| 1126/1126 [00:02<00:00, 508.56it/s]\n"
     ]
    },
    {
     "name": "stdout",
     "output_type": "stream",
     "text": [
      "Accuracy on test data: 45.13%\n",
      "F1: 43.88694387550439%\n"
     ]
    },
    {
     "name": "stderr",
     "output_type": "stream",
     "text": [
      "100%|██████████| 1688/1688 [00:07<00:00, 238.57it/s]\n",
      "100%|██████████| 1126/1126 [00:02<00:00, 503.81it/s]\n"
     ]
    },
    {
     "name": "stdout",
     "output_type": "stream",
     "text": [
      "Accuracy on test data: 45.40%\n",
      "F1: 44.40198920594432%\n"
     ]
    },
    {
     "name": "stderr",
     "output_type": "stream",
     "text": [
      "100%|██████████| 1688/1688 [00:06<00:00, 244.50it/s]\n",
      "100%|██████████| 1126/1126 [00:02<00:00, 503.74it/s]\n"
     ]
    },
    {
     "name": "stdout",
     "output_type": "stream",
     "text": [
      "Accuracy on test data: 45.39%\n",
      "F1: 43.16196837258019%\n"
     ]
    },
    {
     "name": "stderr",
     "output_type": "stream",
     "text": [
      "100%|██████████| 1688/1688 [00:06<00:00, 245.36it/s]\n",
      "100%|██████████| 1126/1126 [00:02<00:00, 500.82it/s]\n"
     ]
    },
    {
     "name": "stdout",
     "output_type": "stream",
     "text": [
      "Accuracy on test data: 45.40%\n",
      "F1: 43.38559017653025%\n"
     ]
    },
    {
     "name": "stderr",
     "output_type": "stream",
     "text": [
      "100%|██████████| 1688/1688 [00:06<00:00, 244.10it/s]\n"
     ]
    },
    {
     "name": "stdout",
     "output_type": "stream",
     "text": [
      "Epoch [10/10], Loss: 1.1078\n"
     ]
    },
    {
     "name": "stderr",
     "output_type": "stream",
     "text": [
      "100%|██████████| 1126/1126 [00:02<00:00, 505.53it/s]"
     ]
    },
    {
     "name": "stdout",
     "output_type": "stream",
     "text": [
      "Accuracy on test data: 45.82%\n",
      "F1: 44.268452793914285%\n"
     ]
    },
    {
     "name": "stderr",
     "output_type": "stream",
     "text": [
      "\n"
     ]
    }
   ],
   "source": [
    "# Используем GPU, если он доступен\n",
    "device = torch.device(\"cuda:3\" if torch.cuda.is_available() else \"cpu\")\n",
    "print(f'Using device: {device}')\n",
    "\n",
    "# Преобразование данных\n",
    "X = torch.tensor(targets['embeds_all_alligned'].tolist(), dtype=torch.float32)\n",
    "y = torch.tensor(targets['age_class'].to_numpy(), dtype=torch.long)\n",
    "lens = torch.tensor(targets['embeds_all_lens'].to_numpy(), dtype=torch.long)\n",
    "\n",
    "# Разделение данных на обучающие и тестовые\n",
    "X_train, X_test, y_train, y_test, train_lens, test_lens = train_test_split(X, y, lens, test_size=0.4, random_state=42)\n",
    "\n",
    "print('1', X_train.size(), y_train.size())\n",
    "\n",
    "# Создание DataLoader'ов для удобства\n",
    "train_dataset = TensorDataset(X_train, y_train, train_lens)\n",
    "train_loader = DataLoader(train_dataset, batch_size=64, shuffle=True)\n",
    "\n",
    "test_dataset = TensorDataset(X_test, y_test, test_lens)\n",
    "test_loader = DataLoader(test_dataset, batch_size=64, shuffle=False)\n",
    "\n",
    "print('2')\n",
    "\n",
    "# Определение LSTM модели\n",
    "class LSTMClassifier(nn.Module):\n",
    "    def __init__(self, embedding_dim, hidden_dim, num_layers, num_classes):\n",
    "        super(LSTMClassifier, self).__init__()\n",
    "        self.hidden_dim = hidden_dim\n",
    "        self.num_layers = num_layers\n",
    "        self.lstm = nn.LSTM(embedding_dim, hidden_dim, num_layers, batch_first=True)\n",
    "        self.fc = nn.Linear(hidden_dim, num_classes)\n",
    "    \n",
    "    def forward(self, x, lens):\n",
    "        h0 = torch.zeros(self.num_layers, x.size(0), self.hidden_dim).to(device)\n",
    "        c0 = torch.zeros(self.num_layers, x.size(0), self.hidden_dim).to(device)\n",
    "        \n",
    "        out, _ = self.lstm(x, (h0, c0))\n",
    "        \n",
    "        # Собираем индексы последних валидных эмбеддингов\n",
    "        batch_size = x.size(0)\n",
    "        idx = lens - 1  # последние истинные значения (без padding)\n",
    "        idx = idx.view(batch_size, 1, 1).expand(batch_size, 1, self.hidden_dim)\n",
    "        out = out.gather(1, idx).squeeze(1)\n",
    "        \n",
    "        out = self.fc(out)\n",
    "        return out\n",
    "\n",
    "# Инициализация модели, функции потерь и оптимизатора\n",
    "embedding_dim = 64\n",
    "hidden_dim = 64\n",
    "num_layers = 2\n",
    "num_classes = 4\n",
    "\n",
    "model = LSTMClassifier(embedding_dim, hidden_dim, num_layers, num_classes).to(device)\n",
    "criterion = nn.CrossEntropyLoss()\n",
    "optimizer = optim.Adam(model.parameters(), lr=0.001)\n",
    "\n",
    "# Обучение модели\n",
    "num_epochs = 10\n",
    "for epoch in range(num_epochs):\n",
    "    model.train()\n",
    "    epoch_loss = 0\n",
    "    for batch_x, batch_y, batch_lens in tqdm(train_loader):\n",
    "        batch_x, batch_y, batch_lens = batch_x.to(device), batch_y.to(device), batch_lens.to(device)\n",
    "        optimizer.zero_grad()\n",
    "        outputs = model(batch_x, batch_lens)\n",
    "        loss = criterion(outputs, batch_y)\n",
    "        loss.backward()\n",
    "        optimizer.step()\n",
    "        epoch_loss += loss.item()\n",
    "\n",
    "    if (epoch + 1) % 10 == 0:\n",
    "        print(f'Epoch [{epoch+1}/{num_epochs}], Loss: {epoch_loss/len(train_loader):.4f}')\n",
    "\n",
    "    # Оценка точности модели на тестовых данных\n",
    "    model.eval()\n",
    "    y_true = []\n",
    "    y_pred = []\n",
    "    with torch.no_grad():\n",
    "        correct = 0\n",
    "        total = 0\n",
    "        for batch_x, batch_y, batch_lens in tqdm(test_loader):\n",
    "            batch_x, batch_y, batch_lens = batch_x.to(device), batch_y.to(device), batch_lens.to(device)\n",
    "            outputs = model(batch_x, batch_lens)\n",
    "            _, predicted = torch.max(outputs.data, 1)\n",
    "            total += batch_y.size(0)\n",
    "            correct += (predicted == batch_y).sum().item()\n",
    "            y_pred.extend(predicted.cpu().numpy())\n",
    "            y_true.extend(batch_y.cpu().numpy())\n",
    "        accuracy = correct / total\n",
    "        print(f'Accuracy on test data: {accuracy * 100:.2f}%')\n",
    "        print(f'F1: {100 * f1_score(y_true, y_pred, average='weighted')}%')"
   ]
  }
 ],
 "metadata": {
  "kernelspec": {
   "display_name": "Python 3",
   "language": "python",
   "name": "python3"
  },
  "language_info": {
   "codemirror_mode": {
    "name": "ipython",
    "version": 3
   },
   "file_extension": ".py",
   "mimetype": "text/x-python",
   "name": "python",
   "nbconvert_exporter": "python",
   "pygments_lexer": "ipython3",
   "version": "3.12.5"
  }
 },
 "nbformat": 4,
 "nbformat_minor": 2
}
